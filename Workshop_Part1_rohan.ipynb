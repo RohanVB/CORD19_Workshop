{
 "cells": [
  {
   "cell_type": "markdown",
   "metadata": {},
   "source": [
    "# Introduction\n",
    "The problem we are tasked to tackle is to develop text and data mining tools that can help the medical community develop answers to high priority scientific questions.\n",
    "We specifically focus on developing tools to answer questions related to \"What do we know about vaccines and therapeutics?\". We refer to this task as Task #4."
   ]
  },
  {
   "cell_type": "markdown",
   "metadata": {},
   "source": [
    "# Overview of Our Approach\n",
    "We explain the approach we took to tackle this problem in 4 main steps: \n",
    "1. Preprocessing and exploring the data, \n",
    "2. Finding the most relevant articles using clustering and topic modeling approaches\n",
    "3. Visualizing the significance of words in important topics\n",
    "4. Creating a question answering system using Universal Sentence Embedding and ElasticSearch. \n",
    "\n",
    "The following figure explains these steps visually as well.\n",
    "Observe that we combine the output of the clustering approach and the topic modeling approach to select the most relevent articles to Task #4.\n",
    "Then, we further analyze the articles by looking at the citations used in each article.\n",
    "The last step is to use the most relevant articles found in the previous steps to create a question answering system which finds the most relevant answer to specific questions within the topic of Task #4.\n",
    "\n",
    "<figure>\n",
    "    <img width=\"600\" alt=\"Pipeline\" src=\"https://user-images.githubusercontent.com/61748540/79469442-2c36c980-7fce-11ea-9bd5-77626334c277.png\">\n",
    "</figure>"
   ]
  },
  {
   "cell_type": "markdown",
   "metadata": {},
   "source": [
    "# Step 0: Install the Required Packages\n",
    "\n",
    "Here, we install all the required packages that are not already installed in this virtualenvironment."
   ]
  },
  {
   "cell_type": "code",
   "execution_count": 1,
   "metadata": {},
   "outputs": [],
   "source": [
    "%%capture\n",
    "!pip install kmeanstf\n",
    "!pip install tabulate\n",
    "!pip install elasticsearch"
   ]
  },
  {
   "cell_type": "markdown",
   "metadata": {},
   "source": [
    "# Step 1: Preprocessing and Data Exploration\n",
    "In this section, we write some auxilary functions to read the CORD-19 dataset and store it in a format that will be used in the rest of this project."
   ]
  },
  {
   "cell_type": "markdown",
   "metadata": {},
   "source": [
    "### Import the Required Packages"
   ]
  },
  {
   "cell_type": "code",
   "execution_count": 8,
   "metadata": {
    "_cell_guid": "b1076dfc-b9ad-4769-8c92-a6c4dae69d19",
    "_uuid": "8f2839f25d086af736a60e9eeb907d3b93b6e0e5"
   },
   "outputs": [],
   "source": [
    "import numpy as np\n",
    "import pandas as pd \n",
    "import json\n",
    "import os\n",
    "import pickle\n",
    "import time\n",
    "import copy\n",
    "from sklearn.feature_extraction.text import TfidfVectorizer\n",
    "from sklearn.cluster import KMeans\n",
    "from sklearn.manifold import TSNE\n",
    "from sklearn.decomposition import PCA\n",
    "import matplotlib.pyplot as plt\n",
    "from scipy.spatial.distance import cdist \n",
    "import sklearn.metrics as metrics\n",
    "import tensorflow as tf\n",
    "from kmeanstf import KMeansTF\n",
    "from tabulate import tabulate\n",
    "from mpl_toolkits.mplot3d import Axes3D\n",
    "import pylab\n",
    "import matplotlib.cm as cm\n",
    "import tensorflow.compat.v1 as tf\n",
    "import tensorflow_hub as hub\n",
    "from elasticsearch import Elasticsearch\n",
    "from elasticsearch.helpers import bulk\n",
    "from scipy import spatial"
   ]
  },
  {
   "cell_type": "markdown",
   "metadata": {},
   "source": [
    "### Function to Read Input Data\n",
    "\n",
    "This function reads the input data and collects all the relavant information about the articles in one dataframe."
   ]
  },
  {
   "cell_type": "code",
   "execution_count": 9,
   "metadata": {},
   "outputs": [],
   "source": [
    "def read_json_data(data_list, input_path): \n",
    "    '''\n",
    "    Inputs: \n",
    "        - data_list: json file paths\n",
    "        - input_path: input_path\n",
    "        \n",
    "    Output:\n",
    "        - dataframe containing: \n",
    "              'paper_id', \n",
    "              'titles', \n",
    "              'abstracts', \n",
    "              'introductions', \n",
    "              'conclusions', \n",
    "              'full_bodytext', \n",
    "              'bodysections',\n",
    "              'body_text_citations', \n",
    "              'context_title_list', \n",
    "              'cite_start', \n",
    "              'cite_end', \n",
    "              'cite_mark'\n",
    "    This function is used to parse json files to return the output elements\n",
    "    '''\n",
    "    \n",
    "    bibentries_title = []\n",
    "    bibentries_token = []\n",
    "    for json_file in range(0, len(data_list)):\n",
    "        bibentries_token.append(list(data_list[json_file]['bib_entries'].keys()))\n",
    "\n",
    "    for token_num, token_list in enumerate(bibentries_token):\n",
    "        bibentry_title = []\n",
    "        for token_len, token in enumerate(token_list):\n",
    "            bibentry_title.append(data_list[token_num]['bib_entries'][token]['title'])\n",
    "        bibentries_title.append(bibentry_title)\n",
    "        \n",
    "    titles = []\n",
    "    all_info = []\n",
    "    paper_id = []\n",
    "    search_abstracts = []\n",
    "    for json_file in range(0, len(data_list)):\n",
    "        paper_id.append(data_list[json_file]['paper_id'])\n",
    "        titles.append(data_list[json_file]['metadata']['title'])\n",
    "        all_info.append(data_list[json_file]['body_text'])\n",
    "        try:\n",
    "            search_abstracts.append(data_list[json_file]['abstract'])\n",
    "        except IndexError:\n",
    "            search_abstracts.append(None)\n",
    "        except KeyError:\n",
    "            search_abstracts.append(None)\n",
    "\n",
    "    abstracts = []\n",
    "    for texts in search_abstracts:\n",
    "        local_abstract = []\n",
    "        if texts is not None:\n",
    "            for num in range(0, len(texts)):\n",
    "                local_abstract.append(texts[num]['text'])\n",
    "        abstracts.append(' '.join(local_abstract))\n",
    "\n",
    "    bodysections = []\n",
    "    full_bodytext = []\n",
    "    introductions = []\n",
    "    conclusions = []\n",
    "    cite_tokens = []\n",
    "    cite_start = []\n",
    "    cite_end = []\n",
    "    cite_mark = []\n",
    "    \n",
    "    for text_info in all_info:\n",
    "        local_info = []\n",
    "        local_cite_token = []\n",
    "        local_cite_start = []\n",
    "        local_cite_end = []\n",
    "        local_cite_mark = []\n",
    "        local_introduction = []\n",
    "        local_conclusion = []\n",
    "\n",
    "        for info_len in range(0, len(text_info)):\n",
    "            if text_info[info_len]['section'] == 'Introduction':\n",
    "                local_introduction.append(text_info[info_len]['text'])\n",
    "            elif text_info[info_len]['section'] == 'Conclusion':\n",
    "                local_conclusion.append(text_info[info_len]['text'])\n",
    "            local_info.append(text_info[info_len]['text'])\n",
    "        for indices in text_info:\n",
    "            for cite_spans in indices['cite_spans']:\n",
    "                local_cite_token.append(cite_spans['ref_id'])\n",
    "                local_cite_start.append(cite_spans['start'])\n",
    "                local_cite_end.append(cite_spans['end'])\n",
    "                try:\n",
    "                    local_cite_mark.append(cite_spans['text'])\n",
    "                except KeyError:\n",
    "                    local_cite_mark.append(None)\n",
    "        introductions.append(''.join(local_introduction))\n",
    "        conclusions.append(''.join(local_conclusion))\n",
    "        full_bodytext.append(' '.join(local_info))\n",
    "        bodysections.append(local_info)\n",
    "        cite_tokens.append(local_cite_token)\n",
    "        cite_start.append(local_cite_start)\n",
    "        cite_end.append(local_cite_end)\n",
    "        cite_mark.append(local_cite_mark)\n",
    "\n",
    "    bib_dict_list = []\n",
    "    for bib_ref, bib_ttl in (zip(bibentries_token, bibentries_title)):\n",
    "        bib_dict = {}\n",
    "        for bib_bib_ref, bib_bib_ttl in zip(bib_ref, bib_ttl):\n",
    "            bib_dict[bib_bib_ref] = bib_bib_ttl\n",
    "        bib_dict_list.append(bib_dict)\n",
    "\n",
    "    context_title_list = []\n",
    "    for cite_val, bib_val in (zip(cite_tokens, bib_dict_list)):\n",
    "        cite_set = cite_val\n",
    "        bib_set = set(bib_val)\n",
    "        context_title_temp = []\n",
    "        for value in cite_set:\n",
    "            for val in bib_set:\n",
    "                if value == val:\n",
    "                    context_title_temp.append(bib_val[value])\n",
    "                elif value == None:\n",
    "                    context_title_temp.append(None)\n",
    "                    break\n",
    "        context_title_list.append(context_title_temp)\n",
    "        \n",
    "    \n",
    "    fields = {\n",
    "              'paper_id': paper_id[0], \n",
    "              'titles': titles[0], \n",
    "              'abstracts': abstracts[0], \n",
    "              'introductions': introductions[0], \n",
    "              'conclusions': conclusions[0], \n",
    "              'full_bodytext': full_bodytext[0], \n",
    "              'bodysections': bodysections[0],\n",
    "              'context_title_list': context_title_list[0], \n",
    "              'cite_start': cite_start[0], \n",
    "              'cite_end': cite_end[0], \n",
    "              'cite_mark': cite_mark[0]\n",
    "            }\n",
    "    return fields"
   ]
  },
  {
   "cell_type": "markdown",
   "metadata": {},
   "source": [
    "### Store the Data\n",
    "\n",
    "Here, we store the preprocessed data for further investigation. We have ignored some articles that do not have a valid path to a full text article. "
   ]
  },
  {
   "cell_type": "code",
   "execution_count": 10,
   "metadata": {},
   "outputs": [
    {
     "name": "stdout",
     "output_type": "stream",
     "text": [
      "Elapsed time:  42.5830454826355\n",
      "Data file size:  2276.3125591278076\n"
     ]
    }
   ],
   "source": [
    "input_path = 'CORD-19-research-challenge/'\n",
    "\n",
    "start = time.time()\n",
    "f_name_list = ['biorxiv_medrxiv/biorxiv_medrxiv', 'comm_use_subset', 'noncomm_use_subset', 'custom_license/custom_license']\n",
    "files = []\n",
    "for f_name in f_name_list:\n",
    "    for root, dirs, file in os.walk(input_path + f_name):\n",
    "        for fname in file:\n",
    "            files.append(os.path.abspath(os.path.join(root, fname)))  \n",
    "\n",
    "file_list = []\n",
    "folder_list = []\n",
    "for l in files:\n",
    "    with open(l) as json_data_l:\n",
    "        data_list = json.load(json_data_l)\n",
    "        context_data = read_json_data([data_list], input_path=input_path)\n",
    "    file_list.append(context_data)\n",
    "folder_list.append(file_list)\n",
    "\n",
    "flatten_data = [item for sublist in folder_list for item in sublist]\n",
    "context_data = pd.DataFrame.from_dict(flatten_data)\n",
    "\n",
    "print('Elapsed time: ', time.time() - start)\n",
    "\n",
    "pickle.dump(context_data, open('context_data.df', 'wb'))\n",
    "print('Data file size: ', os.path.getsize('context_data.df')/(1024*1024))"
   ]
  },
  {
   "cell_type": "markdown",
   "metadata": {},
   "source": [
    "### Look at the Data\n",
    "\n",
    "Here, we provide the first and last few rows of the dataframe that we just created to make sure everything looks fine. "
   ]
  },
  {
   "cell_type": "code",
   "execution_count": 5,
   "metadata": {},
   "outputs": [
    {
     "data": {
      "text/html": [
       "<div>\n",
       "<style scoped>\n",
       "    .dataframe tbody tr th:only-of-type {\n",
       "        vertical-align: middle;\n",
       "    }\n",
       "\n",
       "    .dataframe tbody tr th {\n",
       "        vertical-align: top;\n",
       "    }\n",
       "\n",
       "    .dataframe thead th {\n",
       "        text-align: right;\n",
       "    }\n",
       "</style>\n",
       "<table border=\"1\" class=\"dataframe\">\n",
       "  <thead>\n",
       "    <tr style=\"text-align: right;\">\n",
       "      <th></th>\n",
       "      <th>paper_id</th>\n",
       "      <th>titles</th>\n",
       "      <th>abstracts</th>\n",
       "      <th>introductions</th>\n",
       "      <th>conclusions</th>\n",
       "      <th>full_bodytext</th>\n",
       "      <th>bodysections</th>\n",
       "      <th>context_title_list</th>\n",
       "      <th>cite_start</th>\n",
       "      <th>cite_end</th>\n",
       "      <th>cite_mark</th>\n",
       "    </tr>\n",
       "  </thead>\n",
       "  <tbody>\n",
       "    <tr>\n",
       "      <th>0</th>\n",
       "      <td>f9c6a656d0ce352cc1fa0df8d83e6d4a1f53d7c2</td>\n",
       "      <td>Estimating the Case Fatality Risk of COVID-19 ...</td>\n",
       "      <td>There is large uncertainty around the case fat...</td>\n",
       "      <td></td>\n",
       "      <td></td>\n",
       "      <td>The new coronavirus appears to be fairly trans...</td>\n",
       "      <td>[The new coronavirus appears to be fairly tran...</td>\n",
       "      <td>[Epidemiological research priorities for publi...</td>\n",
       "      <td>[55, 178, 694, 125, 606, 38, 459, 785, 1313, 1...</td>\n",
       "      <td>[58, 181, 697, 128, 609, 41, 462, 789, 1317, 1...</td>\n",
       "      <td>[[1], [1], [2], [3], [7], [8], [9], [10], [11]...</td>\n",
       "    </tr>\n",
       "    <tr>\n",
       "      <th>1</th>\n",
       "      <td>982a6fe2fdba30430b547741811ff4411f1485f1</td>\n",
       "      <td>Molecular basis for the evolution of species-s...</td>\n",
       "      <td>Metals are a limiting resource for pathogenic ...</td>\n",
       "      <td></td>\n",
       "      <td></td>\n",
       "      <td>Animals possess a variety of molecular factors...</td>\n",
       "      <td>[Animals possess a variety of molecular factor...</td>\n",
       "      <td>[None, None, None, None, None, None, None, Non...</td>\n",
       "      <td>[718, 1661, 847, 852, 529, 539, 659, 64, 69, 7...</td>\n",
       "      <td>[737, 1675, 851, 855, 538, 542, 670, 68, 72, 7...</td>\n",
       "      <td>[(Supplemental Data), S. aureus. 193, (43,, 44...</td>\n",
       "    </tr>\n",
       "    <tr>\n",
       "      <th>2</th>\n",
       "      <td>8b88d01563538e4abd29c3ba493c534af30664cc</td>\n",
       "      <td>A mathematical model for simulating the transm...</td>\n",
       "      <td>bioRxiv preprint 2 this study, we developed a ...</td>\n",
       "      <td>On 31 December 2019, the World Health Organiza...</td>\n",
       "      <td></td>\n",
       "      <td>On 31 December 2019, the World Health Organiza...</td>\n",
       "      <td>[On 31 December 2019, the World Health Organiz...</td>\n",
       "      <td>[Pneumonia of Unknown Etiology in Wuhan, China...</td>\n",
       "      <td>[409]</td>\n",
       "      <td>[412]</td>\n",
       "      <td>[(2)]</td>\n",
       "    </tr>\n",
       "  </tbody>\n",
       "</table>\n",
       "</div>"
      ],
      "text/plain": [
       "                                   paper_id  \\\n",
       "0  f9c6a656d0ce352cc1fa0df8d83e6d4a1f53d7c2   \n",
       "1  982a6fe2fdba30430b547741811ff4411f1485f1   \n",
       "2  8b88d01563538e4abd29c3ba493c534af30664cc   \n",
       "\n",
       "                                              titles  \\\n",
       "0  Estimating the Case Fatality Risk of COVID-19 ...   \n",
       "1  Molecular basis for the evolution of species-s...   \n",
       "2  A mathematical model for simulating the transm...   \n",
       "\n",
       "                                           abstracts  \\\n",
       "0  There is large uncertainty around the case fat...   \n",
       "1  Metals are a limiting resource for pathogenic ...   \n",
       "2  bioRxiv preprint 2 this study, we developed a ...   \n",
       "\n",
       "                                       introductions conclusions  \\\n",
       "0                                                                  \n",
       "1                                                                  \n",
       "2  On 31 December 2019, the World Health Organiza...               \n",
       "\n",
       "                                       full_bodytext  \\\n",
       "0  The new coronavirus appears to be fairly trans...   \n",
       "1  Animals possess a variety of molecular factors...   \n",
       "2  On 31 December 2019, the World Health Organiza...   \n",
       "\n",
       "                                        bodysections  \\\n",
       "0  [The new coronavirus appears to be fairly tran...   \n",
       "1  [Animals possess a variety of molecular factor...   \n",
       "2  [On 31 December 2019, the World Health Organiz...   \n",
       "\n",
       "                                  context_title_list  \\\n",
       "0  [Epidemiological research priorities for publi...   \n",
       "1  [None, None, None, None, None, None, None, Non...   \n",
       "2  [Pneumonia of Unknown Etiology in Wuhan, China...   \n",
       "\n",
       "                                          cite_start  \\\n",
       "0  [55, 178, 694, 125, 606, 38, 459, 785, 1313, 1...   \n",
       "1  [718, 1661, 847, 852, 529, 539, 659, 64, 69, 7...   \n",
       "2                                              [409]   \n",
       "\n",
       "                                            cite_end  \\\n",
       "0  [58, 181, 697, 128, 609, 41, 462, 789, 1317, 1...   \n",
       "1  [737, 1675, 851, 855, 538, 542, 670, 68, 72, 7...   \n",
       "2                                              [412]   \n",
       "\n",
       "                                           cite_mark  \n",
       "0  [[1], [1], [2], [3], [7], [8], [9], [10], [11]...  \n",
       "1  [(Supplemental Data), S. aureus. 193, (43,, 44...  \n",
       "2                                              [(2)]  "
      ]
     },
     "execution_count": 5,
     "metadata": {},
     "output_type": "execute_result"
    }
   ],
   "source": [
    "context_data.head(3)"
   ]
  },
  {
   "cell_type": "markdown",
   "metadata": {},
   "source": [
    "# Step 2: Find the Most Relevant Articles to Task #4\n",
    "\n",
    "We first apply the TF-IDF vectorizer to map the articles (including abstract, introduction, body, and conclusion) to vectors representing their contents. We then use these vectors as features for each article and then apply the k-means clustering algorithm to cluster all the articles in the dataset. For this specifc problem, we choose the number of clusters to be 10 since we have 10 different tasks which have relatively low overlap in terms of the discussed topic.\n",
    "\n",
    "Furthermore, we also find a set of articles that are most relevant to Task #4 by performing a Topic Modeling (TM) analysis. \n",
    "After finding the most relavant articles using the TM analysis, we find the cluster (obtained from k-means clustering) that has the most overlap with the selected articles using the TM approach. We use this subset of articles as the input for the next step."
   ]
  },
  {
   "cell_type": "markdown",
   "metadata": {},
   "source": [
    "## Step 2 - Table of Contents\n",
    "* [Extract features and apply k-means clustering on all articles](#STEP1-1-bullet)\n",
    "* [How to interpret the clutering results?](#STEP1-2-bullet)\n",
    "* [Topic Modeling](#STEP1-3-bullet)\n"
   ]
  },
  {
   "cell_type": "markdown",
   "metadata": {},
   "source": [
    "## Extract features and apply k-means clustering on all articles <a class=\"anchor\" id=\"STEP1-1-bullet\"></a>\n",
    "\n",
    "To extract features for each article using a set of specific parts (i.e., abstract, intorduction, body text, conclusion) we use the Term Frequency–Inverse Document Frequency (TF-IDF) approach. Use the *TfidfVectorizer* package of *sklearn* to get the TF-IDF vector. We consider all parts of the papers to be considered in this mapping. We also set the maximum number of features to be 4000 to limit the required computational power. In future studies, we will experiment with increasing this number to see if we can also improve the accuracy of the downstream tasks."
   ]
  },
  {
   "cell_type": "markdown",
   "metadata": {},
   "source": [
    "### Function to create feature vectors using TF-IDF vectorizer"
   ]
  },
  {
   "cell_type": "code",
   "execution_count": 6,
   "metadata": {},
   "outputs": [],
   "source": [
    "\n",
    "def create_features_tfidf(data, columns=['title'], max_features=None):\n",
    "    corpus = pd.DataFrame(columns=['text'])\n",
    "    corpus['text'] = data[columns].dropna().agg('\\n'.join, axis=1)\n",
    "    \n",
    "    vectorizer = TfidfVectorizer(stop_words='english', max_features=max_features)\n",
    "\n",
    "    x = vectorizer.fit_transform(corpus['text'].values)\n",
    "    \n",
    "    return x, vectorizer\n"
   ]
  },
  {
   "cell_type": "markdown",
   "metadata": {},
   "source": [
    "### Apply the TF-IDF Vectorizer to abstract, introduction, body text, and conclusion of all the articles\n",
    "\n",
    "Please note that we set the maximum number of features to 100 only due to the computational time while submitting the notebook for this competition. The rest of the analysis has been done while the *max_features* parameter is set to 4000. Future work also explores setting higher values for this hyperparameter to see if we gain any accuracy while performing the clustering."
   ]
  },
  {
   "cell_type": "code",
   "execution_count": 7,
   "metadata": {},
   "outputs": [
    {
     "name": "stdout",
     "output_type": "stream",
     "text": [
      "(33375, 100)\n"
     ]
    }
   ],
   "source": [
    "\n",
    "columns_to_consider = ['titles', 'abstracts', 'full_bodytext']\n",
    "x, vectorizer = create_features_tfidf(context_data, columns=columns_to_consider, max_features=100)\n",
    "\n",
    "print(x.shape)\n",
    "pickle.dump(x, open('tfidf_matrix.pkl', 'wb'))"
   ]
  },
  {
   "cell_type": "markdown",
   "metadata": {},
   "source": [
    "### Run KMeans algorithm on the extracted features\n",
    "\n",
    "Here we use a TensorFlow-based implementation of k-means (<a href=\"https://pypi.org/project/kmeanstf/\" target=\"_blank\">KMeansTF</a>) to perform the clustering. We also use two different metrics to see how well these articles are grouped together. We use <a href=\"https://en.wikipedia.org/wiki/Davies–Bouldin_index\" target=\"_blank\">Davies–Bouldin index (DBI)</a> and the <a href=\"https://en.wikipedia.org/wiki/Silhouette_(clustering)\" target=\"_blank\">Silhouette score</a> to quantify the goodness of these clusters. Although, the scores do not show great performance, we can consider these clusters relatively good."
   ]
  },
  {
   "cell_type": "code",
   "execution_count": 8,
   "metadata": {},
   "outputs": [
    {
     "name": "stdout",
     "output_type": "stream",
     "text": [
      "0.12741524270792487 2.5497073720837453\n"
     ]
    }
   ],
   "source": [
    "features = tf.convert_to_tensor(x.toarray(), dtype=tf.float32)\n",
    "km = KMeansTF(n_clusters=10, random_state=1)\n",
    "km.fit(features)\n",
    "labels = km.predict(x.toarray())\n",
    "s_score = metrics.silhouette_score(x.toarray(), labels)\n",
    "db_score = metrics.davies_bouldin_score(x.toarray(), labels)\n",
    "\n",
    "print(s_score, db_score)\n",
    "pickle.dump([km, labels], open('clustering_kernel.pkl', 'wb'))"
   ]
  },
  {
   "cell_type": "markdown",
   "metadata": {},
   "source": [
    "### Reduce the dimension of the feature space to visualize the results in 2D/3D dimensions\n",
    "\n",
    "We use two different methods to reduce the dimension of the feature space from 4000 down to 2 and 3. These two methods are <a href=\"https://en.wikipedia.org/wiki/T-distributed_stochastic_neighbor_embedding\" target=\"_blank\">t-distributed Stochastic Neighbor Embedding (t-SNE)</a> and <a href=\"https://en.wikipedia.org/wiki/Principal_component_analysis\" target=\"_blank\">Principal Component Analysis (PCA)</a> which are two commonly used approaches for this purpose. Observe that the obtained figures show that the similar articles have been well clustered together. \n",
    "\n",
    "The following code has been provided to perform the dimensionality reduction. \n"
   ]
  },
  {
   "cell_type": "code",
   "execution_count": 9,
   "metadata": {},
   "outputs": [
    {
     "data": {
      "text/plain": [
       "Text(0.5, 1.0, 'PCA')"
      ]
     },
     "execution_count": 9,
     "metadata": {},
     "output_type": "execute_result"
    },
    {
     "data": {
      "image/png": "[encoded data removed]",
      "text/plain": [
       "<Figure size 720x720 with 4 Axes>"
      ]
     },
     "metadata": {
      "needs_background": "light"
     },
     "output_type": "display_data"
    }
   ],
   "source": [
    "[km, labels] = pickle.load(open('clustering_kernel.pkl', 'rb'))\n",
    "x = pickle.load(open('tfidf_matrix.pkl', 'rb'))\n",
    "\n",
    "colors = cm.rainbow(np.linspace(0, 10, 100))\n",
    "\n",
    "\n",
    "################### 3D Visualization ######################\n",
    "# Use t-SNE to reduce dimensions down to 3\n",
    "tsne = TSNE(n_components=3, verbose=0).fit(x)\n",
    "tsne_vec_3d = tsne.embedding_\n",
    "\n",
    "fig = plt.figure(figsize=(10, 10))\n",
    "plt.subplots_adjust(bottom=0.1, right=0.8, top=0.9)\n",
    "ax_3d = fig.add_subplot(2, 2, 1, projection='3d')\n",
    "ax_3d.scatter(tsne_vec_3d[:, 0], tsne_vec_3d[:, 1], tsne_vec_3d[:, 2], c=colors[labels-1])#c=kernel.labels_*100, cmap=pylab.cm.cool)\n",
    "ax_3d.set_title('t-SNE')\n",
    "\n",
    "\n",
    "# Use PCA to reduce dimensions down to 3\n",
    "pca = PCA(n_components=3)\n",
    "pca.fit(x.toarray())\n",
    "#print('Explained variance ratio of the first three PCs: ', pca.explained_variance_ratio_)\n",
    "pca_vec_3d = pca.transform(x.toarray())\n",
    "\n",
    "ax_3d = fig.add_subplot(2, 2, 2, projection='3d')\n",
    "ax_3d.scatter(pca_vec_3d[:, 0], pca_vec_3d[:, 1], pca_vec_3d[:, 2], c=colors[labels-1])\n",
    "ax_3d.set_title('PCA')\n",
    "\n",
    "\n",
    "\n",
    "################### 2D Visualization ######################\n",
    "# Use t-SNE to reduce dimensions down to 2\n",
    "tsne = TSNE(n_components=2, verbose=0).fit(x)\n",
    "tsne_vec_2d = tsne.embedding_\n",
    "\n",
    "ax_2d=plt.subplot(2, 2, 3)\n",
    "ax_2d.scatter(tsne_vec_2d[:, 0], tsne_vec_2d[:, 1], c=colors[labels-1])\n",
    "ax_2d.set_title('t-SNE')\n",
    "\n",
    "\n",
    "# Use PCA to reduce dimensions down to 2\n",
    "pca = PCA(n_components=2).fit(x.toarray())\n",
    "#print('Explained variance ratio of the first two PCs: ', pca.explained_variance_ratio_)\n",
    "pca_vec_2d = pca.transform(x.toarray())\n",
    "\n",
    "ax_2d=plt.subplot(2, 2, 4)\n",
    "ax_2d.scatter(pca_vec_2d[:, 0], pca_vec_2d[:, 1], c=colors[labels-1])\n",
    "ax_2d.set_title('PCA')\n"
   ]
  },
  {
   "cell_type": "markdown",
   "metadata": {},
   "source": [
    "## How to interpret the clutering results? <a class=\"anchor\" id=\"STEP1-2-bullet\"></a>\n",
    "\n",
    "As mentioned earlier, the motivation behind choosing the number of clusters to be 10 is that we would like to work with the articles that are more relevant to Task #4. However, by simply applying a clustering algorithm, it is hard to tell which cluster corresponds to which general topic. Therefore, we propose to perform a Topic Modeling on all parts of the articles to obtain the most relevant articles to Task #4. Next, we find the cluster that has the most overlap with the relavant articles obtained from Topic Modeling. Then, we take the union of these two sets (the chosen cluster and the set of important articles obtained by Topic Modeling) and use those articles for the downstream tasks since we are focusing on answering specific questions stated in Task #4. In the next section, we explain how we obtain the most relevant articles using topic modeling."
   ]
  },
  {
   "cell_type": "markdown",
   "metadata": {},
   "source": [
    "## Topic Modeling<a class=\"anchor\" id=\"STEP1-3-bullet\"></a>\n",
    "\n",
    "One of the well-known generative probabilistic topic modeling algorithms is the <a href=\"https://en.wikipedia.org/wiki/Latent_Dirichlet_allocation\" target=\"_blank\">Latent Dirichlet Allocation (LDA)</a> approach which performs well in finding topics in a collection of documents.\n",
    "In LDA, topics are the latent variables, while words are the apparent variables. \n",
    "LDA receives words as an input vector and generates topics which are probability distribution over words based on a generative process. LDA uses a joint probability distribution over both the observed and hidden random variables and compute the posterior distribution (conditional distribution) of the hidden variables given the observed variables. \n",
    "The fundamental assumption of LDA is that documents can be assigned to multiple topics. Another assumption is that topics are hidden variables and words in documents are apparent variables. Thus, LDA performs a generative process by receiving words as an input vector to provide topics which are probability distribution over words.  The aim is that we provide a list of keywords that are relvent to Task#4. \n",
    "Here, we explain how we can apply this method to our problem.\n",
    "\n",
    "\n"
   ]
  },
  {
   "cell_type": "markdown",
   "metadata": {},
   "source": [
    "**Import the Required Packages**"
   ]
  },
  {
   "cell_type": "code",
   "execution_count": 10,
   "metadata": {},
   "outputs": [
    {
     "name": "stdout",
     "output_type": "stream",
     "text": [
      "[nltk_data] Downloading package stopwords to /home/18rvb/nltk_data...\n",
      "[nltk_data]   Package stopwords is already up-to-date!\n"
     ]
    },
    {
     "data": {
      "text/plain": [
       "True"
      ]
     },
     "execution_count": 10,
     "metadata": {},
     "output_type": "execute_result"
    }
   ],
   "source": [
    "import os\n",
    "import glob\n",
    "import json\n",
    "import pickle\n",
    "import re\n",
    "import logging\n",
    "import gensim\n",
    "import pandas\n",
    "import pandas as pd\n",
    "import timeit\n",
    "from tqdm import tqdm\n",
    "from pprint import pprint\n",
    "from gensim import corpora, models\n",
    "from gensim.models.ldamodel import LdaModel\n",
    "from gensim.models.phrases import Phrases, Phraser\n",
    "from gensim.utils import simple_preprocess\n",
    "from gensim.models.coherencemodel import CoherenceModel\n",
    "from nltk.corpus import stopwords\n",
    "import nltk\n",
    "nltk.download('stopwords')"
   ]
  },
  {
   "cell_type": "code",
   "execution_count": 11,
   "metadata": {},
   "outputs": [],
   "source": [
    "doc = ['Efforts targeted at a universal coronavirus vaccine.',\n",
    "'Exploration of use of best animal models and their predictive value for a human vaccine.',\n",
    "'Methods evaluating potential complication of Antibody Dependent Enhancement (ADE) in vaccine recipients.',\n",
    "'Approaches to evaluate risk for enhanced disease after vaccination',\n",
    "'Effectiveness of drugs being developed and tried to treat COVID-19 patients.',\n",
    "'Clinical and bench trials to investigate less common viral inhibitors against COVID-19 such as naproxen, clarithromycin, and minocycline that may exert effects on viral replication.',\n",
    "'Capabilities to discover a therapeutic (not vaccine) for the disease, and clinical effectiveness studies to discover therapeutics, to include antiviral agents.',\n",
    "'Alternative models to aid decision makers in determining how to prioritize and distribute scarce, newly proven therapeutics as production ramps up. This could include identifying approaches for expanding production capacity to ensure equitable and timely distribution to populations in need.',\n",
    "'Efforts to develop animal models and standardize challenge studies',\n",
    "'Efforts to develop prophylaxis clinical studies and prioritize in healthcare workers',\n",
    "'Assays to evaluate vaccine immune response and process development for vaccines, alongside suitable animal models (in conjunction with therapeutics)',]"
   ]
  },
  {
   "cell_type": "code",
   "execution_count": 12,
   "metadata": {},
   "outputs": [],
   "source": [
    "words=[]\n",
    "for ch in doc: \n",
    "    words.append(ch.split(' '))\n",
    "\n",
    "\n",
    "words = [row.split() for row in doc]\n",
    "\n",
    "\n",
    "bigram = Phrases(words, min_count=30, progress_per=1000)\n",
    "bigram_mod = Phraser(bigram)\n",
    "\n",
    "bigrams = [b for l in doc for b in zip(l.split(\" \")[:-1], l.split(\" \")[1:])]"
   ]
  },
  {
   "cell_type": "code",
   "execution_count": 13,
   "metadata": {},
   "outputs": [
    {
     "name": "stdout",
     "output_type": "stream",
     "text": [
      "[(0,\n",
      "  '0.011*\"vaccine\" + 0.011*\"efforts\" + 0.011*\"models\" + 0.011*\"effectiveness\" '\n",
      "  '+ 0.011*\"disease\" + 0.011*\"clinical\" + 0.011*\"develop\" + 0.011*\"drugs\" + '\n",
      "  '0.011*\"studies\" + 0.011*\"animal\"'),\n",
      " (1,\n",
      "  '0.011*\"efforts\" + 0.011*\"vaccine\" + 0.011*\"universal\" + 0.011*\"animal\" + '\n",
      "  '0.011*\"studies\" + 0.011*\"develop\" + 0.011*\"models\" + 0.011*\"conjunction\" + '\n",
      "  '0.011*\"coronavirus\" + 0.011*\"assays\"'),\n",
      " (2,\n",
      "  '0.011*\"vaccine\" + 0.011*\"animal\" + 0.011*\"efforts\" + 0.011*\"models\" + '\n",
      "  '0.011*\"evaluate\" + 0.011*\"disease\" + 0.011*\"develop\" + 0.011*\"studies\" + '\n",
      "  '0.011*\"clinical\" + 0.011*\"capabilities\"'),\n",
      " (3,\n",
      "  '0.111*\"discover\" + 0.057*\"agents\" + 0.057*\"therapeutic\" + 0.057*\"studies\" + '\n",
      "  '0.057*\"clinical\" + 0.057*\"effectiveness\" + 0.057*\"antiviral\" + '\n",
      "  '0.057*\"include\" + 0.057*\"capabilities\" + 0.057*\"therapeutics\"'),\n",
      " (4,\n",
      "  '0.095*\"models\" + 0.095*\"animal\" + 0.049*\"best\" + 0.049*\"develop\" + '\n",
      "  '0.049*\"vaccine\" + 0.049*\"use\" + 0.049*\"human\" + 0.049*\"predictive\" + '\n",
      "  '0.049*\"challenge\" + 0.049*\"efforts\"'),\n",
      " (5,\n",
      "  '0.011*\"vaccine\" + 0.011*\"efforts\" + 0.011*\"models\" + 0.011*\"develop\" + '\n",
      "  '0.011*\"disease\" + 0.011*\"studies\" + 0.011*\"clinical\" + 0.011*\"universal\" + '\n",
      "  '0.011*\"animal\" + 0.011*\"capabilities\"'),\n",
      " (6,\n",
      "  '0.011*\"vaccine\" + 0.011*\"efforts\" + 0.011*\"develop\" + 0.011*\"animal\" + '\n",
      "  '0.011*\"evaluate\" + 0.011*\"models\" + 0.011*\"disease\" + 0.011*\"clinical\" + '\n",
      "  '0.011*\"universal\" + 0.011*\"workers\"'),\n",
      " (7,\n",
      "  '0.060*\"coronavirus\" + 0.060*\"covid\" + 0.060*\"effectiveness\" + '\n",
      "  '0.060*\"patients\" + 0.060*\"developed\" + 0.060*\"tried\" + 0.060*\"targeted\" + '\n",
      "  '0.060*\"treat\" + 0.060*\"efforts\" + 0.060*\"vaccine\"'),\n",
      " (8,\n",
      "  '0.035*\"viral\" + 0.035*\"production\" + 0.018*\"effects\" + 0.018*\"identifying\" '\n",
      "  '+ 0.018*\"timely\" + 0.018*\"include\" + 0.018*\"capacity\" + 0.018*\"bench\" + '\n",
      "  '0.018*\"inhibitors\" + 0.018*\"ade\"'),\n",
      " (9,\n",
      "  '0.011*\"disease\" + 0.011*\"studies\" + 0.011*\"vaccine\" + 0.011*\"develop\" + '\n",
      "  '0.011*\"models\" + 0.011*\"standardize\" + 0.011*\"efforts\" + 0.011*\"animal\" + '\n",
      "  '0.011*\"universal\" + 0.011*\"coronavirus\"'),\n",
      " (10,\n",
      "  '0.011*\"efforts\" + 0.011*\"vaccine\" + 0.011*\"clinical\" + 0.011*\"evaluate\" + '\n",
      "  '0.011*\"models\" + 0.011*\"develop\" + 0.011*\"studies\" + 0.011*\"targeted\" + '\n",
      "  '0.011*\"universal\" + 0.011*\"animal\"'),\n",
      " (11,\n",
      "  '0.011*\"efforts\" + 0.011*\"animal\" + 0.011*\"vaccine\" + 0.011*\"vaccination\" + '\n",
      "  '0.011*\"models\" + 0.011*\"clinical\" + 0.011*\"evaluate\" + 0.011*\"universal\" + '\n",
      "  '0.011*\"develop\" + 0.011*\"studies\"'),\n",
      " (12,\n",
      "  '0.011*\"efforts\" + 0.011*\"vaccine\" + 0.011*\"models\" + 0.011*\"develop\" + '\n",
      "  '0.011*\"clinical\" + 0.011*\"evaluate\" + 0.011*\"disease\" + 0.011*\"studies\" + '\n",
      "  '0.011*\"effectiveness\" + 0.011*\"animal\"'),\n",
      " (13,\n",
      "  '0.011*\"efforts\" + 0.011*\"models\" + 0.011*\"vaccine\" + 0.011*\"clinical\" + '\n",
      "  '0.011*\"disease\" + 0.011*\"effectiveness\" + 0.011*\"develop\" + '\n",
      "  '0.011*\"universal\" + 0.011*\"studies\" + 0.011*\"animal\"'),\n",
      " (14,\n",
      "  '0.080*\"evaluate\" + 0.041*\"therapeutics\" + 0.041*\"approaches\" + '\n",
      "  '0.041*\"process\" + 0.041*\"immune\" + 0.041*\"vaccines\" + 0.041*\"alongside\" + '\n",
      "  '0.041*\"enhanced\" + 0.041*\"vaccine\" + 0.041*\"assays\"'),\n",
      " (15,\n",
      "  '0.011*\"efforts\" + 0.011*\"studies\" + 0.011*\"vaccine\" + 0.011*\"animal\" + '\n",
      "  '0.011*\"models\" + 0.011*\"develop\" + 0.011*\"disease\" + 0.011*\"evaluate\" + '\n",
      "  '0.011*\"clinical\" + 0.011*\"capabilities\"'),\n",
      " (16,\n",
      "  '0.078*\"prioritize\" + 0.078*\"studies\" + 0.078*\"workers\" + 0.078*\"healthcare\" '\n",
      "  '+ 0.078*\"prophylaxis\" + 0.078*\"efforts\" + 0.078*\"develop\" + '\n",
      "  '0.078*\"clinical\" + 0.004*\"vaccine\" + 0.004*\"disease\"')]\n"
     ]
    }
   ],
   "source": [
    "stop_words = stopwords.words('english')\n",
    "def remove_stopwords(texts):\n",
    "    return [[word for word in simple_preprocess(str(doc)) if word not in stop_words] for doc in texts]\n",
    "\n",
    "words_nostops = remove_stopwords(words)\n",
    "\n",
    "def make_bigrams(texts):\n",
    "    return [bigram_mod[doc] for doc in texts]\n",
    "words_bigrams = make_bigrams(words_nostops)\n",
    "\n",
    "id2word = corpora.Dictionary(words_bigrams)\n",
    "\n",
    "texts = words_bigrams\n",
    "corpus = [id2word.doc2bow(text) for text in texts]\n",
    "\n",
    "lda_model = gensim.models.LdaMulticore(corpus=corpus,\n",
    "                                       id2word=id2word,\n",
    "                                       num_topics=17, \n",
    "                                       random_state=10,\n",
    "                                       chunksize=5,\n",
    "                                       passes=1,\n",
    "                                       per_word_topics=True)\n",
    "pprint(lda_model.print_topics())\n",
    "doc_lda = lda_model[corpus]"
   ]
  },
  {
   "cell_type": "code",
   "execution_count": 14,
   "metadata": {},
   "outputs": [],
   "source": [
    "def format_topics_sentences(ldamodel=None, corpus=corpus, texts=words_bigrams):\n",
    "    sent_topics_df = pandas.DataFrame()\n",
    "    \n",
    "    keywords_arr = []\n",
    "\n",
    "    for i, row_list in enumerate(ldamodel[corpus]):\n",
    "        row = row_list[0] if ldamodel.per_word_topics else row_list            \n",
    "        row = sorted(row, key=lambda x: (x[1]), reverse=True)\n",
    "        for j, (topic_num, prop_topic) in enumerate(row):\n",
    "            if j == 0:  \n",
    "                wp = ldamodel.show_topic(topic_num)\n",
    "                topic_keywords = \", \".join([word for word, prop in wp])\n",
    "                keywords_arr.append(topic_keywords)\n",
    "                sent_topics_df = sent_topics_df.append(pandas.Series([int(topic_num), round(prop_topic,4), topic_keywords]), ignore_index=True)\n",
    "            else:\n",
    "                break\n",
    "    sent_topics_df.columns = ['Dominant_Topic', 'Perc_Contribution', 'Topic_Keywords']\n",
    "\n",
    "    contents = pandas.Series(texts)\n",
    "    sent_topics_df = pandas.concat([sent_topics_df, contents], axis=1)\n",
    "    return(sent_topics_df, keywords_arr)"
   ]
  },
  {
   "cell_type": "code",
   "execution_count": 15,
   "metadata": {},
   "outputs": [],
   "source": [
    "df_topic_sents_keywords, keywords_arr = format_topics_sentences(ldamodel=lda_model, corpus=corpus, texts=words_bigrams)\n",
    "\n",
    "result = []\n",
    "keywords_arr = [i.lower().replace(',', '').split() for i in keywords_arr]\n",
    "\n",
    "\n",
    "result = [x for sublist in keywords_arr for x in sublist]\n",
    "\n",
    "keywords = result"
   ]
  },
  {
   "cell_type": "code",
   "execution_count": 16,
   "metadata": {},
   "outputs": [
    {
     "name": "stdout",
     "output_type": "stream",
     "text": [
      "----------------------------------------------------------------------------\n"
     ]
    }
   ],
   "source": [
    "#Part #2\n",
    "print('----------------------------------------------------------------------------')\n",
    "colnames = ['sha','source_x','title','doi','pmcid','pubmed_id','license','abstract','publish_time','authors','journal','Microsoft Academic','Paper ID','WHO #Covidence','has_full_text','full_text_file']\n",
    "data = pandas.read_csv('CORD-19-research-challenge/metadata.csv', dtype=str, names=colnames, low_memory=False)\n",
    "documents = data.title\n",
    "\n",
    "\n",
    "data = data.drop(columns=['sha', 'source_x', 'doi', 'pmcid', 'pubmed_id', 'license', 'abstract', 'publish_time', 'authors', 'journal', 'Microsoft Academic', 'WHO #Covidence', 'has_full_text', 'full_text_file'], axis=1)\n",
    "data['title_processed'] = data['title'].map(lambda x: re.sub('[,\\.!?]', '', str(x)))\n"
   ]
  },
  {
   "cell_type": "code",
   "execution_count": 17,
   "metadata": {},
   "outputs": [],
   "source": [
    "data_path = 'CORD-19-research-challenge/'\n",
    "json_files = glob.glob(f'{data_path}/**/**/*.json', recursive=True)"
   ]
  },
  {
   "cell_type": "code",
   "execution_count": 18,
   "metadata": {},
   "outputs": [],
   "source": [
    "# the columns would be title, paper id\n",
    "def to_covid_json(json_files):\n",
    "    jsonl = []\n",
    "    for file_name in tqdm(json_files):\n",
    "        try:\n",
    "            row = {\"doc_id\": None, \"title\": None, \"abstract\": None, \"body\": None}\n",
    "            with open(file_name) as json_data:\n",
    "    #             print(file_name)\n",
    "    #             break\n",
    "                data = json.load(json_data)\n",
    "                row['doc_id'] = data['paper_id']\n",
    "                row['title'] = data['metadata']['title']\n",
    "\n",
    "                abstract_list = [abst['text'] for abst in data['abstract']]\n",
    "                abstract = \"\\n\".join(abstract_list)\n",
    "                row['abstract'] = abstract\n",
    "                # And lastly the body of the text. \n",
    "                body_list = [bt['text'] for bt in data['body_text']]\n",
    "                body = \"\\n\".join(body_list)\n",
    "                row['body'] = body\n",
    "        except KeyError:\n",
    "            continue\n",
    "        jsonl.append(row)\n",
    "    \n",
    "    return jsonl\n",
    "def get_data():\n",
    "    try:\n",
    "        with open('df_cache.pickle', 'rb') as f:\n",
    "            df = pickle.load(f)\n",
    "    except:\n",
    "        df = pd.DataFrame(to_covid_json(json_files))\n",
    "        with open('df_cache.pickle', 'wb') as f:\n",
    "            pickle.dump(df, f)\n",
    "    return df"
   ]
  },
  {
   "cell_type": "code",
   "execution_count": 20,
   "metadata": {},
   "outputs": [],
   "source": [
    "Dic_title_to_key={}\n",
    "df = get_data()\n",
    "for i in range(len(df.body)):\n",
    "    for item in keywords:\n",
    "        if item.lower() in df.body[i].lower():\n",
    "            Dic_title_to_key[df.title[i]]=item\n",
    "df2=pd.DataFrame(Dic_title_to_key.items(), columns=['title', 'keyword'])\n",
    "df3=pd.merge(df2, data, on='title')\n",
    "df3 = df3.sort_values('keyword').reset_index().drop(columns=['index'])\n",
    "df3.to_csv (r'export_dataframe.csv', index = False, header=True)"
   ]
  },
  {
   "cell_type": "markdown",
   "metadata": {},
   "source": [
    "## Find the cluster that has the most overlap with the most relevant articles\n",
    "\n",
    "In order to do so, we find the overlap between the most important articles and each individual cluster. We also find the intersection and union of these two sets for all the 10 different clusters."
   ]
  },
  {
   "cell_type": "code",
   "execution_count": 21,
   "metadata": {},
   "outputs": [
    {
     "name": "stdout",
     "output_type": "stream",
     "text": [
      "  Cluster ID    # of Articles    Intersection    Union\n",
      "------------  ---------------  --------------  -------\n",
      "           0              379              89    17253\n",
      "           1             3483            2332    18114\n",
      "           2             2462            1354    18071\n",
      "           3             2146            1316    17793\n",
      "           4             1233             720    17476\n",
      "           5             4740            2974    18729\n",
      "           6             1287             646    17604\n",
      "           7             3327            1956    18334\n",
      "           8             4952            2913    19002\n",
      "           9             4904            2696    19171\n"
     ]
    }
   ],
   "source": [
    "\n",
    "[km, labels] = pickle.load(open('clustering_kernel.pkl', 'rb'))\n",
    "\n",
    "clustering_data = context_data[columns_to_consider].dropna().reset_index()\n",
    "clustering_data['label'] = labels\n",
    "\n",
    "tm_data = pd.read_csv('export_dataframe.csv')\n",
    "tm_titles = set(tm_data['title'].values)\n",
    "\n",
    "table = []\n",
    "for l in np.unique(labels):\n",
    "    label_data = clustering_data[clustering_data['label'] == l]\n",
    "    label_titles = set(label_data['titles'].values)\n",
    "\n",
    "    selected_articles_i = tm_titles.intersection(label_titles)\n",
    "    selected_articles_u = tm_titles.union(label_titles)\n",
    "    table.append([l, len(label_titles), len(selected_articles_i), len(selected_articles_u)])\n",
    "\n",
    "print(tabulate(table, headers=[\"Cluster ID\",\"# of Articles\", \"Intersection\", \"Union\"]))\n"
   ]
  },
  {
   "cell_type": "markdown",
   "metadata": {},
   "source": [
    "Observe the cluster which has the largest number of articles in the intersection (Cluster ID #5) with the most important results. Therefore, we choose this cluster and find the union of the articles in this cluster with the most relevant articles to create a set of articles that are the most important for Task #4."
   ]
  },
  {
   "cell_type": "code",
   "execution_count": 22,
   "metadata": {},
   "outputs": [],
   "source": [
    "l = 3\n",
    "label_data = clustering_data[clustering_data['label'] == l]\n",
    "label_titles = set(label_data['titles'].values)\n",
    "\n",
    "selected_articles_i = set(tm_titles.intersection(label_titles))\n",
    "selected_articles_u = set(tm_titles.union(label_titles))\n",
    "\n",
    "selected_articles = clustering_data[clustering_data['titles'].isin(selected_articles_u)]\n",
    "selected_articles = selected_articles.filter(items=['titles', 'sha'])\n",
    "\n",
    "pickle.dump(selected_articles, open('selected_articles.pkl', 'wb'))\n"
   ]
  },
  {
   "cell_type": "markdown",
   "metadata": {},
   "source": [
    "Moving forward, we consider this set of articles to use for making the queries."
   ]
  },
  {
   "cell_type": "markdown",
   "metadata": {},
   "source": [
    "# Step 3: Visualizing the Significance of Words in Important Topics\n",
    "\n",
    "We identify some important topics from the task description of the challenge and after preprocessing (removal of stopwords and punctuation), we are able to visualize it by an InferSent model trained on the titles of our dataset."
   ]
  },
  {
   "cell_type": "markdown",
   "metadata": {},
   "source": [
    "**Tokenize sentences, remove stop words and punctuation**"
   ]
  },
  {
   "cell_type": "code",
   "execution_count": 23,
   "metadata": {},
   "outputs": [],
   "source": [
    "from nltk.tokenize import word_tokenize\n",
    "import string\n",
    "\n",
    "tokenized_words = []\n",
    "for words in doc:\n",
    "    tokenized_words.append(word_tokenize(words))\n",
    "    \n",
    "wordsFiltered = []\n",
    "\n",
    "for l in tokenized_words:\n",
    "    temp_list = []\n",
    "    for w in l:\n",
    "        if w not in stop_words:\n",
    "            temp_list.append(w)\n",
    "    wordsFiltered.append(temp_list)\n",
    "    \n",
    "search_sentences = []\n",
    "for i in wordsFiltered:\n",
    "    search_sentences.append(' '.join(i))\n",
    "\n",
    "remove_punct = []\n",
    "for s in search_sentences:\n",
    "    remove_punct.append(s.translate(str.maketrans('', '', string.punctuation)))"
   ]
  },
  {
   "cell_type": "markdown",
   "metadata": {},
   "source": [
    "**Clone the InferSent repo and download the InferSent model trained with fasttext**"
   ]
  },
  {
   "cell_type": "code",
   "execution_count": 24,
   "metadata": {},
   "outputs": [
    {
     "name": "stdout",
     "output_type": "stream",
     "text": [
      "[nltk_data] Downloading package punkt to /home/18rvb/nltk_data...\n",
      "[nltk_data]   Package punkt is already up-to-date!\n",
      "mkdir: cannot create directory ‘encoder’: File exists\n",
      "  % Total    % Received % Xferd  Average Speed   Time    Time     Time  Current\n",
      "                                 Dload  Upload   Total   Spent    Left  Speed\n",
      "100  146M  100  146M    0     0  7930k      0  0:00:18  0:00:18 --:--:-- 8461k\n"
     ]
    }
   ],
   "source": [
    "# !git clone https://github.com/facebookresearch/InferSent.git\n",
    "from InferSent.models import InferSent\n",
    "import nltk\n",
    "import torch\n",
    "nltk.download('punkt')   \n",
    "\n",
    "!mkdir encoder\n",
    "!curl -Lo encoder/infersent2.pkl https://dl.fbaipublicfiles.com/infersent/infersent2.pkl"
   ]
  },
  {
   "cell_type": "markdown",
   "metadata": {},
   "source": [
    "**Load pre-trained model and update the vocabulary with most common words**"
   ]
  },
  {
   "cell_type": "code",
   "execution_count": 25,
   "metadata": {},
   "outputs": [
    {
     "name": "stdout",
     "output_type": "stream",
     "text": [
      "Vocab size : 100000\n"
     ]
    }
   ],
   "source": [
    "V = 2\n",
    "MODEL_PATH = 'encoder/infersent%s.pkl' % V\n",
    "params_model = {'bsize': 64, 'word_emb_dim': 300, 'enc_lstm_dim': 2048,\n",
    "                'pool_type': 'max', 'dpout_model': 0.0, 'version': V}\n",
    "infersent = InferSent(params_model)\n",
    "infersent.load_state_dict(torch.load(MODEL_PATH))\n",
    "\n",
    "W2V_PATH = 'fastText/crawl-300d-2M.vec'\n",
    "infersent.set_w2v_path(W2V_PATH)\n",
    "\n",
    "infersent.build_vocab_k_words(K=100000)"
   ]
  },
  {
   "cell_type": "markdown",
   "metadata": {},
   "source": [
    "**Update vocabulary with titles from CORD-19 dataset**"
   ]
  },
  {
   "cell_type": "code",
   "execution_count": 26,
   "metadata": {},
   "outputs": [
    {
     "name": "stdout",
     "output_type": "stream",
     "text": [
      "Found 14318(/27385) words with w2v vectors\n",
      "New vocab size : 114321 (added 14318 words)\n"
     ]
    }
   ],
   "source": [
    "string_titles = []\n",
    "for sent in list(context_data['titles']):\n",
    "    if isinstance(sent, str):\n",
    "        string_titles.append(sent)\n",
    "\n",
    "infersent.update_vocab(string_titles)"
   ]
  },
  {
   "cell_type": "markdown",
   "metadata": {},
   "source": [
    "**Visualize a few important topics**\n",
    "\n",
    "We can clearly see that based on the vector representations created from using fasttext embeddings on titles in our dataset, and visualizing important terms specific to task-4, **\"vaccine\"**, it's derivative words, and **\"coronavirus\"** are important words contributing towards generating embeddings. This handy function can be used to identify the significance of several other important topics from a model trained in an unsupervised manner to create embeddings on a related corpora, which in this case is titles from the CORD-19 dataset."
   ]
  },
  {
   "cell_type": "code",
   "execution_count": 27,
   "metadata": {},
   "outputs": [
    {
     "data": {
      "image/png": "[encoded data removed]",
      "text/plain": [
       "<Figure size 432x288 with 1 Axes>"
      ]
     },
     "metadata": {
      "needs_background": "light"
     },
     "output_type": "display_data"
    },
    {
     "data": {
      "image/png": "[encoded data removed]",
      "text/plain": [
       "<Figure size 432x288 with 1 Axes>"
      ]
     },
     "metadata": {
      "needs_background": "light"
     },
     "output_type": "display_data"
    },
    {
     "data": {
      "image/png": "[encoded data removed]",
      "text/plain": [
       "<Figure size 432x288 with 1 Axes>"
      ]
     },
     "metadata": {
      "needs_background": "light"
     },
     "output_type": "display_data"
    },
    {
     "data": {
      "image/png": "[encoded data removed]",
      "text/plain": [
       "<Figure size 432x288 with 1 Axes>"
      ]
     },
     "metadata": {
      "needs_background": "light"
     },
     "output_type": "display_data"
    }
   ],
   "source": [
    "for topic in remove_punct[:4]:\n",
    "    infersent.visualize(topic, tokenize=True)"
   ]
  },
  {
   "cell_type": "markdown",
   "metadata": {},
   "source": [
    "# Step 4: Find the most Relevant Answers to Specific Queries\n",
    "\n",
    "By following the previous steps, we can identify the articles that are most relevant to the questions asked in Task 4, now we need an efficient way to query the articles and return the most relevant ones to answer a question entered by the end user. To achieve that, we select Elastisearch as our search engine and utilize the dense vector data type to store vector representation of the text to allow better document scoring. The details of this part will be introduced as the following table of content."
   ]
  },
  {
   "cell_type": "markdown",
   "metadata": {},
   "source": [
    "## Step 4 - Table of Contents\n",
    "* [Install Elasticsearch](#STEP4-1-bullet)\n",
    "* [Create Index Mapping](#STEP4-2-bullet)\n",
    "* [Download Universal Sentence Encoder for text embedding](#STEP4-3-bullet)\n",
    "* [Start Indexing](#STEP4-4-bullet)\n",
    "* [Start Querying](#STEP4-5-bullet)"
   ]
  },
  {
   "cell_type": "markdown",
   "metadata": {},
   "source": [
    "### Install Elasticsearch <a class=\"anchor\" id=\"STEP4-1-bullet\"></a>\n",
    "\n",
    "As mentioned before, we want to create vector representations for text and use them to allow better document scoring when searching answers for a query, we need to install Elasticsearch service with version higher than 7.6. Here is the link to download the package: https://www.elastic.co/start.  \n",
    "\n",
    "On the download page, there are instructions to install Elasticsearch. Once you download the packages, make sure to run: <br>\n",
    "`bin/elasticsearch` to start the elasticsearch service. To make sure the service is up and running, you can open http://localhost:9200 in your browser, you should get response like the following:\n",
    "\n",
    "    `{\n",
    "      \"name\" : \"cluster_name\",\n",
    "      \"cluster_name\" : \"elasticsearch\",\n",
    "      \"cluster_uuid\" : \"1MVhoZ9HS4GcGRppF4P-yQ\",\n",
    "      \"version\" : {\n",
    "        \"number\" : \"7.6.1\",\n",
    "        \"build_flavor\" : \"default\",\n",
    "        \"build_type\" : \"tar\",\n",
    "        \"build_hash\" : \"aa751e09be0a5072e8570670309b1f12348f023b\",\n",
    "        \"build_date\" : \"2020-02-29T00:15:25.529771Z\",\n",
    "        \"build_snapshot\" : false,\n",
    "        \"lucene_version\" : \"8.4.0\",\n",
    "        \"minimum_wire_compatibility_version\" : \"6.8.0\",\n",
    "        \"minimum_index_compatibility_version\" : \"6.0.0-beta1\"\n",
    "      },\n",
    "      \"tagline\" : \"You Know, for Search\"\n",
    "    }`\n",
    "   "
   ]
  },
  {
   "cell_type": "markdown",
   "metadata": {},
   "source": [
    "### Create Index Mapping <a class=\"anchor\" id=\"STEP4-2-bullet\"></a>\n",
    "\n",
    "We need to create a mapping schema to tell elasticsearch what information from each article we want to store and what data type we want to use. For this submission, we store the 'paper_id' as the _keyword_ type, the 'title' and 'abstract' as the _text_ type, the vector representation of 'title' and 'abstract' as the <em>dense_vector</em> type. "
   ]
  },
  {
   "cell_type": "code",
   "execution_count": 14,
   "metadata": {},
   "outputs": [],
   "source": [
    "index_mappings = {\n",
    "      \"settings\": {\n",
    "          \"number_of_shards\": 2,\n",
    "          \"number_of_replicas\": 1\n",
    "        },\n",
    "       \"mappings\": {\n",
    "          \"dynamic\": \"true\",\n",
    "           \"_source\": {\n",
    "                 \"enabled\": \"true\"\n",
    "             },\n",
    "          \"properties\": {\n",
    "              \"paper_id\": {\n",
    "                  \"type\": \"keyword\"\n",
    "              },  \n",
    "              \"title\": {\n",
    "                  \"type\": \"text\"\n",
    "              },\n",
    "              \"abstract\": {\n",
    "                  \"type\": \"text\"\n",
    "              },\n",
    "              \"title_vector\": {\n",
    "                \"type\": \"dense_vector\",\n",
    "                \"dims\": 512\n",
    "              },\n",
    "              \"abstract_vector\": {\n",
    "                \"type\": \"dense_vector\",\n",
    "                \"dims\": 512\n",
    "              }\n",
    "            }\n",
    "          }\n",
    "        }"
   ]
  },
  {
   "cell_type": "markdown",
   "metadata": {},
   "source": [
    "### Download Universal Sentence Encoder for text embedding <a class=\"anchor\" id=\"STEP4-3-bullet\"></a>\n",
    "\n",
    "To obtain the vector representations for texts, we need to apply the sentence embedding technique. There are various sentence embedding methods such as SIF embedding[1], or using BERT[2], or InferSent[3] etc.. In this work, we choose to use Google's Universal Sentence Encoder[4]. However, investigating in other methods is the priority in our future work, particularly applying BioBERT as a service."
   ]
  },
  {
   "cell_type": "code",
   "execution_count": 3,
   "metadata": {},
   "outputs": [],
   "source": [
    "%%capture\n",
    "import sys\n",
    "!{sys.executable} -m pip install tensorflow_hub\n",
    "!{sys.executable} -m pip install tensorflow"
   ]
  },
  {
   "cell_type": "markdown",
   "metadata": {},
   "source": [
    "** Note: It will take a few minutes to download the universal sentence encoder model from the tensorflow hub. So grab a cup of coffee and come back :) **"
   ]
  },
  {
   "cell_type": "code",
   "execution_count": 2,
   "metadata": {
    "collapsed": true
   },
   "outputs": [
    {
     "name": "stdout",
     "output_type": "stream",
     "text": [
      "INFO:tensorflow:Saver not created because there are no variables in the graph to restore\n"
     ]
    },
    {
     "name": "stderr",
     "output_type": "stream",
     "text": [
      "INFO:tensorflow:Saver not created because there are no variables in the graph to restore\n"
     ]
    }
   ],
   "source": [
    "# Create graph and finalize (finalizing optional but recommended).\n",
    "import os\n",
    "os.environ[\"CUDA_DEVICE_ORDER\"]=\"PCI_BUS_ID\"   # see issue #152\n",
    "os.environ[\"CUDA_VISIBLE_DEVICES\"]=\"0\"\n",
    "\n",
    "g = tf.Graph()\n",
    "with g.as_default():\n",
    "# We will be feeding 1D tensors of text into the graph.\n",
    "    text_input = tf.placeholder(dtype=tf.string, shape=[None])\n",
    "    embed = hub.Module(\"https://tfhub.dev/google/universal-sentence-encoder/2\")\n",
    "    embeddings = embed(text_input)\n",
    "    init_op = tf.group([tf.global_variables_initializer(), tf.tables_initializer()])\n",
    "g.finalize()\n",
    "# Create session and initialize.\n",
    "session = tf.Session(graph=g)\n",
    "session.run(init_op)"
   ]
  },
  {
   "cell_type": "code",
   "execution_count": 5,
   "metadata": {
    "collapsed": true
   },
   "outputs": [
    {
     "name": "stdout",
     "output_type": "stream",
     "text": [
      "Downloading pre-trained embeddings from tensorflow hub...\n",
      "WARNING:tensorflow:Unable to create a python object for variable <tf.Variable 'global_step:0' shape=() dtype=int32_ref> because it is a reference variable. It may not be visible to training APIs. If this is a problem, consider rebuilding the SavedModel after running tf.compat.v1.enable_resource_variables().\n"
     ]
    },
    {
     "name": "stderr",
     "output_type": "stream",
     "text": [
      "WARNING:tensorflow:Unable to create a python object for variable <tf.Variable 'global_step:0' shape=() dtype=int32_ref> because it is a reference variable. It may not be visible to training APIs. If this is a problem, consider rebuilding the SavedModel after running tf.compat.v1.enable_resource_variables().\n"
     ]
    },
    {
     "name": "stdout",
     "output_type": "stream",
     "text": [
      "WARNING:tensorflow:Unable to create a python object for variable <tf.Variable 'Embeddings_en/sharded_0:0' shape=(47060, 320) dtype=float32_ref> because it is a reference variable. It may not be visible to training APIs. If this is a problem, consider rebuilding the SavedModel after running tf.compat.v1.enable_resource_variables().\n"
     ]
    },
    {
     "name": "stderr",
     "output_type": "stream",
     "text": [
      "WARNING:tensorflow:Unable to create a python object for variable <tf.Variable 'Embeddings_en/sharded_0:0' shape=(47060, 320) dtype=float32_ref> because it is a reference variable. It may not be visible to training APIs. If this is a problem, consider rebuilding the SavedModel after running tf.compat.v1.enable_resource_variables().\n"
     ]
    },
    {
     "name": "stdout",
     "output_type": "stream",
     "text": [
      "WARNING:tensorflow:Unable to create a python object for variable <tf.Variable 'Embeddings_en/sharded_1:0' shape=(47060, 320) dtype=float32_ref> because it is a reference variable. It may not be visible to training APIs. If this is a problem, consider rebuilding the SavedModel after running tf.compat.v1.enable_resource_variables().\n"
     ]
    },
    {
     "name": "stderr",
     "output_type": "stream",
     "text": [
      "WARNING:tensorflow:Unable to create a python object for variable <tf.Variable 'Embeddings_en/sharded_1:0' shape=(47060, 320) dtype=float32_ref> because it is a reference variable. It may not be visible to training APIs. If this is a problem, consider rebuilding the SavedModel after running tf.compat.v1.enable_resource_variables().\n"
     ]
    },
    {
     "name": "stdout",
     "output_type": "stream",
     "text": [
      "WARNING:tensorflow:Unable to create a python object for variable <tf.Variable 'Embeddings_en/sharded_2:0' shape=(47060, 320) dtype=float32_ref> because it is a reference variable. It may not be visible to training APIs. If this is a problem, consider rebuilding the SavedModel after running tf.compat.v1.enable_resource_variables().\n"
     ]
    },
    {
     "name": "stderr",
     "output_type": "stream",
     "text": [
      "WARNING:tensorflow:Unable to create a python object for variable <tf.Variable 'Embeddings_en/sharded_2:0' shape=(47060, 320) dtype=float32_ref> because it is a reference variable. It may not be visible to training APIs. If this is a problem, consider rebuilding the SavedModel after running tf.compat.v1.enable_resource_variables().\n"
     ]
    },
    {
     "name": "stdout",
     "output_type": "stream",
     "text": [
      "WARNING:tensorflow:Unable to create a python object for variable <tf.Variable 'Embeddings_en/sharded_3:0' shape=(47060, 320) dtype=float32_ref> because it is a reference variable. It may not be visible to training APIs. If this is a problem, consider rebuilding the SavedModel after running tf.compat.v1.enable_resource_variables().\n"
     ]
    },
    {
     "name": "stderr",
     "output_type": "stream",
     "text": [
      "WARNING:tensorflow:Unable to create a python object for variable <tf.Variable 'Embeddings_en/sharded_3:0' shape=(47060, 320) dtype=float32_ref> because it is a reference variable. It may not be visible to training APIs. If this is a problem, consider rebuilding the SavedModel after running tf.compat.v1.enable_resource_variables().\n"
     ]
    },
    {
     "name": "stdout",
     "output_type": "stream",
     "text": [
      "WARNING:tensorflow:Unable to create a python object for variable <tf.Variable 'global_step:0' shape=() dtype=int32_ref> because it is a reference variable. It may not be visible to training APIs. If this is a problem, consider rebuilding the SavedModel after running tf.compat.v1.enable_resource_variables().\n"
     ]
    },
    {
     "name": "stderr",
     "output_type": "stream",
     "text": [
      "WARNING:tensorflow:Unable to create a python object for variable <tf.Variable 'global_step:0' shape=() dtype=int32_ref> because it is a reference variable. It may not be visible to training APIs. If this is a problem, consider rebuilding the SavedModel after running tf.compat.v1.enable_resource_variables().\n"
     ]
    },
    {
     "name": "stdout",
     "output_type": "stream",
     "text": [
      "WARNING:tensorflow:Unable to create a python object for variable <tf.Variable 'Embeddings_en/sharded_0:0' shape=(47060, 320) dtype=float32_ref> because it is a reference variable. It may not be visible to training APIs. If this is a problem, consider rebuilding the SavedModel after running tf.compat.v1.enable_resource_variables().\n"
     ]
    },
    {
     "name": "stderr",
     "output_type": "stream",
     "text": [
      "WARNING:tensorflow:Unable to create a python object for variable <tf.Variable 'Embeddings_en/sharded_0:0' shape=(47060, 320) dtype=float32_ref> because it is a reference variable. It may not be visible to training APIs. If this is a problem, consider rebuilding the SavedModel after running tf.compat.v1.enable_resource_variables().\n"
     ]
    },
    {
     "name": "stdout",
     "output_type": "stream",
     "text": [
      "WARNING:tensorflow:Unable to create a python object for variable <tf.Variable 'Embeddings_en/sharded_1:0' shape=(47060, 320) dtype=float32_ref> because it is a reference variable. It may not be visible to training APIs. If this is a problem, consider rebuilding the SavedModel after running tf.compat.v1.enable_resource_variables().\n"
     ]
    },
    {
     "name": "stderr",
     "output_type": "stream",
     "text": [
      "WARNING:tensorflow:Unable to create a python object for variable <tf.Variable 'Embeddings_en/sharded_1:0' shape=(47060, 320) dtype=float32_ref> because it is a reference variable. It may not be visible to training APIs. If this is a problem, consider rebuilding the SavedModel after running tf.compat.v1.enable_resource_variables().\n"
     ]
    },
    {
     "name": "stdout",
     "output_type": "stream",
     "text": [
      "WARNING:tensorflow:Unable to create a python object for variable <tf.Variable 'Embeddings_en/sharded_2:0' shape=(47060, 320) dtype=float32_ref> because it is a reference variable. It may not be visible to training APIs. If this is a problem, consider rebuilding the SavedModel after running tf.compat.v1.enable_resource_variables().\n"
     ]
    },
    {
     "name": "stderr",
     "output_type": "stream",
     "text": [
      "WARNING:tensorflow:Unable to create a python object for variable <tf.Variable 'Embeddings_en/sharded_2:0' shape=(47060, 320) dtype=float32_ref> because it is a reference variable. It may not be visible to training APIs. If this is a problem, consider rebuilding the SavedModel after running tf.compat.v1.enable_resource_variables().\n"
     ]
    },
    {
     "name": "stdout",
     "output_type": "stream",
     "text": [
      "WARNING:tensorflow:Unable to create a python object for variable <tf.Variable 'Embeddings_en/sharded_3:0' shape=(47060, 320) dtype=float32_ref> because it is a reference variable. It may not be visible to training APIs. If this is a problem, consider rebuilding the SavedModel after running tf.compat.v1.enable_resource_variables().\n"
     ]
    },
    {
     "name": "stderr",
     "output_type": "stream",
     "text": [
      "WARNING:tensorflow:Unable to create a python object for variable <tf.Variable 'Embeddings_en/sharded_3:0' shape=(47060, 320) dtype=float32_ref> because it is a reference variable. It may not be visible to training APIs. If this is a problem, consider rebuilding the SavedModel after running tf.compat.v1.enable_resource_variables().\n"
     ]
    },
    {
     "name": "stdout",
     "output_type": "stream",
     "text": [
      "WARNING:tensorflow:Some variables could not be lifted out of a loaded function. Run the tf.initializers.tables_initializer() operation to restore these variables.\n"
     ]
    },
    {
     "name": "stderr",
     "output_type": "stream",
     "text": [
      "WARNING:tensorflow:Some variables could not be lifted out of a loaded function. Run the tf.initializers.tables_initializer() operation to restore these variables.\n"
     ]
    },
    {
     "name": "stdout",
     "output_type": "stream",
     "text": [
      "WARNING:tensorflow:Unable to create a python object for variable <tf.Variable 'global_step:0' shape=() dtype=int32_ref> because it is a reference variable. It may not be visible to training APIs. If this is a problem, consider rebuilding the SavedModel after running tf.compat.v1.enable_resource_variables().\n"
     ]
    },
    {
     "name": "stderr",
     "output_type": "stream",
     "text": [
      "WARNING:tensorflow:Unable to create a python object for variable <tf.Variable 'global_step:0' shape=() dtype=int32_ref> because it is a reference variable. It may not be visible to training APIs. If this is a problem, consider rebuilding the SavedModel after running tf.compat.v1.enable_resource_variables().\n"
     ]
    },
    {
     "name": "stdout",
     "output_type": "stream",
     "text": [
      "WARNING:tensorflow:Unable to create a python object for variable <tf.Variable 'Embeddings_en/sharded_0:0' shape=(47060, 320) dtype=float32_ref> because it is a reference variable. It may not be visible to training APIs. If this is a problem, consider rebuilding the SavedModel after running tf.compat.v1.enable_resource_variables().\n"
     ]
    },
    {
     "name": "stderr",
     "output_type": "stream",
     "text": [
      "WARNING:tensorflow:Unable to create a python object for variable <tf.Variable 'Embeddings_en/sharded_0:0' shape=(47060, 320) dtype=float32_ref> because it is a reference variable. It may not be visible to training APIs. If this is a problem, consider rebuilding the SavedModel after running tf.compat.v1.enable_resource_variables().\n"
     ]
    },
    {
     "name": "stdout",
     "output_type": "stream",
     "text": [
      "WARNING:tensorflow:Unable to create a python object for variable <tf.Variable 'Embeddings_en/sharded_1:0' shape=(47060, 320) dtype=float32_ref> because it is a reference variable. It may not be visible to training APIs. If this is a problem, consider rebuilding the SavedModel after running tf.compat.v1.enable_resource_variables().\n"
     ]
    },
    {
     "name": "stderr",
     "output_type": "stream",
     "text": [
      "WARNING:tensorflow:Unable to create a python object for variable <tf.Variable 'Embeddings_en/sharded_1:0' shape=(47060, 320) dtype=float32_ref> because it is a reference variable. It may not be visible to training APIs. If this is a problem, consider rebuilding the SavedModel after running tf.compat.v1.enable_resource_variables().\n"
     ]
    },
    {
     "name": "stdout",
     "output_type": "stream",
     "text": [
      "WARNING:tensorflow:Unable to create a python object for variable <tf.Variable 'Embeddings_en/sharded_2:0' shape=(47060, 320) dtype=float32_ref> because it is a reference variable. It may not be visible to training APIs. If this is a problem, consider rebuilding the SavedModel after running tf.compat.v1.enable_resource_variables().\n"
     ]
    },
    {
     "name": "stderr",
     "output_type": "stream",
     "text": [
      "WARNING:tensorflow:Unable to create a python object for variable <tf.Variable 'Embeddings_en/sharded_2:0' shape=(47060, 320) dtype=float32_ref> because it is a reference variable. It may not be visible to training APIs. If this is a problem, consider rebuilding the SavedModel after running tf.compat.v1.enable_resource_variables().\n"
     ]
    },
    {
     "name": "stdout",
     "output_type": "stream",
     "text": [
      "WARNING:tensorflow:Unable to create a python object for variable <tf.Variable 'Embeddings_en/sharded_3:0' shape=(47060, 320) dtype=float32_ref> because it is a reference variable. It may not be visible to training APIs. If this is a problem, consider rebuilding the SavedModel after running tf.compat.v1.enable_resource_variables().\n"
     ]
    },
    {
     "name": "stderr",
     "output_type": "stream",
     "text": [
      "WARNING:tensorflow:Unable to create a python object for variable <tf.Variable 'Embeddings_en/sharded_3:0' shape=(47060, 320) dtype=float32_ref> because it is a reference variable. It may not be visible to training APIs. If this is a problem, consider rebuilding the SavedModel after running tf.compat.v1.enable_resource_variables().\n"
     ]
    },
    {
     "name": "stdout",
     "output_type": "stream",
     "text": [
      "WARNING:tensorflow:Unable to create a python object for variable <tf.Variable 'global_step:0' shape=() dtype=int32_ref> because it is a reference variable. It may not be visible to training APIs. If this is a problem, consider rebuilding the SavedModel after running tf.compat.v1.enable_resource_variables().\n"
     ]
    },
    {
     "name": "stderr",
     "output_type": "stream",
     "text": [
      "WARNING:tensorflow:Unable to create a python object for variable <tf.Variable 'global_step:0' shape=() dtype=int32_ref> because it is a reference variable. It may not be visible to training APIs. If this is a problem, consider rebuilding the SavedModel after running tf.compat.v1.enable_resource_variables().\n"
     ]
    },
    {
     "name": "stdout",
     "output_type": "stream",
     "text": [
      "WARNING:tensorflow:Unable to create a python object for variable <tf.Variable 'Embeddings_en/sharded_0:0' shape=(47060, 320) dtype=float32_ref> because it is a reference variable. It may not be visible to training APIs. If this is a problem, consider rebuilding the SavedModel after running tf.compat.v1.enable_resource_variables().\n"
     ]
    },
    {
     "name": "stderr",
     "output_type": "stream",
     "text": [
      "WARNING:tensorflow:Unable to create a python object for variable <tf.Variable 'Embeddings_en/sharded_0:0' shape=(47060, 320) dtype=float32_ref> because it is a reference variable. It may not be visible to training APIs. If this is a problem, consider rebuilding the SavedModel after running tf.compat.v1.enable_resource_variables().\n"
     ]
    },
    {
     "name": "stdout",
     "output_type": "stream",
     "text": [
      "WARNING:tensorflow:Unable to create a python object for variable <tf.Variable 'Embeddings_en/sharded_1:0' shape=(47060, 320) dtype=float32_ref> because it is a reference variable. It may not be visible to training APIs. If this is a problem, consider rebuilding the SavedModel after running tf.compat.v1.enable_resource_variables().\n"
     ]
    },
    {
     "name": "stderr",
     "output_type": "stream",
     "text": [
      "WARNING:tensorflow:Unable to create a python object for variable <tf.Variable 'Embeddings_en/sharded_1:0' shape=(47060, 320) dtype=float32_ref> because it is a reference variable. It may not be visible to training APIs. If this is a problem, consider rebuilding the SavedModel after running tf.compat.v1.enable_resource_variables().\n"
     ]
    },
    {
     "name": "stdout",
     "output_type": "stream",
     "text": [
      "WARNING:tensorflow:Unable to create a python object for variable <tf.Variable 'Embeddings_en/sharded_2:0' shape=(47060, 320) dtype=float32_ref> because it is a reference variable. It may not be visible to training APIs. If this is a problem, consider rebuilding the SavedModel after running tf.compat.v1.enable_resource_variables().\n"
     ]
    },
    {
     "name": "stderr",
     "output_type": "stream",
     "text": [
      "WARNING:tensorflow:Unable to create a python object for variable <tf.Variable 'Embeddings_en/sharded_2:0' shape=(47060, 320) dtype=float32_ref> because it is a reference variable. It may not be visible to training APIs. If this is a problem, consider rebuilding the SavedModel after running tf.compat.v1.enable_resource_variables().\n"
     ]
    },
    {
     "name": "stdout",
     "output_type": "stream",
     "text": [
      "WARNING:tensorflow:Unable to create a python object for variable <tf.Variable 'Embeddings_en/sharded_3:0' shape=(47060, 320) dtype=float32_ref> because it is a reference variable. It may not be visible to training APIs. If this is a problem, consider rebuilding the SavedModel after running tf.compat.v1.enable_resource_variables().\n"
     ]
    },
    {
     "name": "stderr",
     "output_type": "stream",
     "text": [
      "WARNING:tensorflow:Unable to create a python object for variable <tf.Variable 'Embeddings_en/sharded_3:0' shape=(47060, 320) dtype=float32_ref> because it is a reference variable. It may not be visible to training APIs. If this is a problem, consider rebuilding the SavedModel after running tf.compat.v1.enable_resource_variables().\n"
     ]
    },
    {
     "name": "stdout",
     "output_type": "stream",
     "text": [
      "Done.\n",
      "Creating tensorflow session...\n",
      "Done.\n"
     ]
    }
   ],
   "source": [
    "# Use tensorflow for the Universal Sentence Encoder\n",
    "GPU_LIMIT = 0.5\n",
    "tf.compat.v1.disable_eager_execution()\n",
    "print(\"Downloading pre-trained embeddings from tensorflow hub...\")\n",
    "embed = hub.load(\"https://tfhub.dev/google/universal-sentence-encoder/2\") # You can also download the model and reload it from your path\n",
    "text_ph = tf.placeholder(tf.string)\n",
    "embed = embed.signatures['default']\n",
    "embeddings = embed(text_ph)\n",
    "print(\"Done.\")\n",
    "print(\"Creating tensorflow session...\")\n",
    "config = tf.ConfigProto()\n",
    "config.gpu_options.per_process_gpu_memory_fraction = GPU_LIMIT\n",
    "session = tf.Session(config=config)\n",
    "session.run(tf.global_variables_initializer())\n",
    "session.run(tf.tables_initializer())\n",
    "print(\"Done.\")"
   ]
  },
  {
   "cell_type": "markdown",
   "metadata": {},
   "source": [
    "### Start Indexing <a class=\"anchor\" id=\"STEP4-4-bullet\"></a>"
   ]
  },
  {
   "cell_type": "code",
   "execution_count": 6,
   "metadata": {},
   "outputs": [
    {
     "name": "stdout",
     "output_type": "stream",
     "text": [
      "Requirement already satisfied: elasticsearch in /home/18rvb/anaconda3/lib/python3.7/site-packages (7.8.1)\n",
      "Requirement already satisfied: urllib3>=1.21.1 in /home/18rvb/anaconda3/lib/python3.7/site-packages (from elasticsearch) (1.24.3)\n",
      "Requirement already satisfied: certifi in /home/18rvb/anaconda3/lib/python3.7/site-packages (from elasticsearch) (2020.6.20)\n",
      "\u001b[33mWARNING: You are using pip version 20.1.1; however, version 20.2.3 is available.\n",
      "You should consider upgrading via the '/home/18rvb/anaconda3/bin/python -m pip install --upgrade pip' command.\u001b[0m\n"
     ]
    }
   ],
   "source": [
    "# Uncomment the following to install the elasticsearch python package\n",
    "import sys\n",
    "!{sys.executable} -m pip install elasticsearch"
   ]
  },
  {
   "cell_type": "markdown",
   "metadata": {},
   "source": [
    "**Get articles that are relevant to Task 4**"
   ]
  },
  {
   "cell_type": "code",
   "execution_count": 11,
   "metadata": {},
   "outputs": [
    {
     "name": "stdout",
     "output_type": "stream",
     "text": [
      "22006\n"
     ]
    }
   ],
   "source": [
    "articles_list = \"./selected_articles.pkl\"\n",
    "articles_df = pd.read_pickle(articles_list)\n",
    "titles = articles_df['titles'].tolist()\n",
    "print(len(titles))"
   ]
  },
  {
   "cell_type": "markdown",
   "metadata": {},
   "source": [
    "**Load articles**"
   ]
  },
  {
   "cell_type": "code",
   "execution_count": 12,
   "metadata": {},
   "outputs": [],
   "source": [
    "def load_article(context_data, title):\n",
    "    doc = context_data[context_data['titles'] == title]\n",
    "    try:\n",
    "        return doc.iloc[0]\n",
    "    except:\n",
    "        return None"
   ]
  },
  {
   "cell_type": "markdown",
   "metadata": {},
   "source": [
    "**Create Index**"
   ]
  },
  {
   "cell_type": "code",
   "execution_count": 15,
   "metadata": {},
   "outputs": [
    {
     "data": {
      "text/plain": [
       "{'acknowledged': True, 'shards_acknowledged': True, 'index': 'covid19'}"
      ]
     },
     "execution_count": 15,
     "metadata": {},
     "output_type": "execute_result"
    }
   ],
   "source": [
    "INDEX_NAME = \"covid19\"\n",
    "INDEX_Mappings = index_mappings\n",
    "\n",
    "BATCH_SIZE = 1000 # The batch size for bulk indexing\n",
    "\n",
    "client = Elasticsearch() # Connect to the elasticsearch service we started earlier\n",
    "client.indices.delete(index=INDEX_NAME, ignore=[404]) # Delete the index if it exists\n",
    "client.indices.create(index=INDEX_NAME, body=INDEX_Mappings)"
   ]
  },
  {
   "cell_type": "markdown",
   "metadata": {},
   "source": [
    "**Extract content of interest from the original article json file and apply sentence embedding**"
   ]
  },
  {
   "cell_type": "code",
   "execution_count": 16,
   "metadata": {},
   "outputs": [],
   "source": [
    "# Embedding method\n",
    "def embed_text(text):\n",
    "    vectors = session.run(embeddings, feed_dict={text_ph: text})\n",
    "    return [vector.tolist() for vector in vectors['default']]"
   ]
  },
  {
   "cell_type": "code",
   "execution_count": 17,
   "metadata": {},
   "outputs": [],
   "source": [
    "# Extract content and apply sentence embedding, then bulk index\n",
    "def index_batch(docs):\n",
    "    titles = [doc[\"titles\"] for doc in docs]\n",
    "    title_vectors = embed_text(titles)\n",
    "    \n",
    "    abstracts = [doc[\"abstracts\"] for doc in docs]\n",
    "    abstract_vectors = embed_text(abstracts)\n",
    "\n",
    "    requests = []\n",
    "    for i, doc in enumerate(docs):\n",
    "        request = {}\n",
    "        request['paper_id'] = doc['paper_id']\n",
    "        request['title'] = titles[i] \n",
    "        request['abstract'] = abstracts[i]\n",
    "        request[\"_op_type\"] = \"index\"\n",
    "        request[\"_index\"] = INDEX_NAME\n",
    "        request[\"title_vector\"] = title_vectors[i]\n",
    "        request[\"abstract_vector\"] = abstract_vectors[i]\n",
    "        requests.append(request)\n",
    "    bulk(client, requests)"
   ]
  },
  {
   "cell_type": "markdown",
   "metadata": {},
   "source": [
    "**Note: The indexing process will take some time depending on the number of articles you'd like to index, but this is one time effort, once the articles are indexed, the searching process is fast**"
   ]
  },
  {
   "cell_type": "code",
   "execution_count": 18,
   "metadata": {},
   "outputs": [
    {
     "name": "stdout",
     "output_type": "stream",
     "text": [
      "22006\n",
      "1000\n",
      "Indexed 1000 documents.\n",
      "2000\n",
      "Indexed 2000 documents.\n",
      "3000\n",
      "Indexed 3000 documents.\n",
      "4000\n",
      "Indexed 4000 documents.\n",
      "5000\n",
      "Indexed 5000 documents.\n",
      "6000\n",
      "Indexed 6000 documents.\n",
      "7000\n",
      "Indexed 7000 documents.\n",
      "8000\n",
      "Indexed 8000 documents.\n",
      "9000\n",
      "Indexed 9000 documents.\n",
      "10000\n",
      "Indexed 10000 documents.\n",
      "11000\n",
      "Indexed 11000 documents.\n",
      "12000\n",
      "Indexed 12000 documents.\n",
      "13000\n",
      "Indexed 13000 documents.\n",
      "14000\n",
      "Indexed 14000 documents.\n",
      "15000\n",
      "Indexed 15000 documents.\n",
      "16000\n",
      "Indexed 16000 documents.\n",
      "17000\n",
      "Indexed 17000 documents.\n",
      "18000\n",
      "Indexed 18000 documents.\n",
      "19000\n",
      "Indexed 19000 documents.\n",
      "20000\n",
      "Indexed 20000 documents.\n",
      "21000\n",
      "Indexed 21000 documents.\n",
      "22000\n",
      "Indexed 22000 documents.\n",
      "Indexed 22006 documents.\n",
      "Done indexing.\n",
      "Time to index:  0.04487403909365336\n"
     ]
    }
   ],
   "source": [
    "docs = []\n",
    "count = 0\n",
    "\n",
    "start_time = time.time()\n",
    "print(len(titles))\n",
    "for title in titles:\n",
    "    doc = load_article(context_data, title)\n",
    "    \n",
    "    if doc is None:\n",
    "        continue\n",
    "    docs.append(doc)\n",
    "    count += 1\n",
    "\n",
    "    if count % BATCH_SIZE == 0:\n",
    "        print(count)\n",
    "        index_batch(docs)\n",
    "        docs = []\n",
    "        print(\"Indexed {} documents.\".format(count))\n",
    "\n",
    "if docs:\n",
    "    index_batch(docs)\n",
    "    print(\"Indexed {} documents.\".format(count))\n",
    "\n",
    "client.indices.refresh(index=INDEX_NAME)\n",
    "print(\"Done indexing.\")\n",
    "end_time = time.time()\n",
    "print(\"Time to index: \", (end_time - start_time)/3600)"
   ]
  },
  {
   "cell_type": "markdown",
   "metadata": {},
   "source": [
    "## Start Querying <a class=\"anchor\" id=\"STEP4-5-bullet\"></a>\n",
    "\n",
    "Once we have indexed the articles of interest, when a query comes in, we will first apply the same sentence embedding method on the query to get a vector representation of it, and use cosine similarity to return the top K texts that are similar to the query."
   ]
  },
  {
   "cell_type": "code",
   "execution_count": 19,
   "metadata": {},
   "outputs": [],
   "source": [
    "def run_query_loop(SEARCH_SIZE=5):\n",
    "    while True:\n",
    "        try:\n",
    "            handle_query(SEARCH_SIZE)\n",
    "        except KeyboardInterrupt:\n",
    "            return"
   ]
  },
  {
   "cell_type": "markdown",
   "metadata": {},
   "source": [
    "**Incorporate the citation titles in the original context to allow better search**"
   ]
  },
  {
   "cell_type": "code",
   "execution_count": 20,
   "metadata": {},
   "outputs": [],
   "source": [
    "def get_top_paragraphs(data, titles, query_vector, SEARCH_SIZE):  \n",
    "    enhanced_origin = {}\n",
    "    for title in titles:\n",
    "        doc = load_article(data, title)\n",
    "        body_sections = doc['bodysections']\n",
    "        citation_titles = doc['context_title_list']\n",
    "        cite_mark = doc['cite_mark']\n",
    "        mark_title = {}\n",
    "        for i, c_mark in enumerate(cite_mark):\n",
    "            mark_title[c_mark] = citation_titles[i]\n",
    "            \n",
    "        for sec in body_sections:\n",
    "            enhan = sec\n",
    "            for m in mark_title:\n",
    "                try:\n",
    "                    enhan = enhan.replace(m, mark_title[m])\n",
    "                except:\n",
    "                    pass\n",
    "            enhanced_origin[enhan] = title + \"<TITLE_SEP>\" + sec\n",
    "\n",
    "    paragraphs_all = list(enhanced_origin.keys())\n",
    "    paragraphs_all_vectors = embed_text(paragraphs_all)\n",
    "    scores = []\n",
    "    score_index = {}\n",
    "    for p in paragraphs_all_vectors:\n",
    "        score = 1 - spatial.distance.cosine(p, query_vector)\n",
    "        scores.append(score)\n",
    "    for i, s in enumerate(scores):\n",
    "        score_index[s] = i\n",
    "    scores.sort(reverse=True)\n",
    "    topk_scores = scores[:SEARCH_SIZE]\n",
    "    topk_index = [score_index[s] for s in topk_scores]\n",
    "    for i, index in enumerate(topk_index):\n",
    "        print(\"Top {} Relevant Paragraph: \".format(i))\n",
    "        top_enhanced_paragraph = paragraphs_all[index]\n",
    "        top_origin_paragraph = enhanced_origin[top_enhanced_paragraph]\n",
    "        title, paragraph = top_origin_paragraph.split('<TITLE_SEP>')[0],top_origin_paragraph.split('<TITLE_SEP>')[1]\n",
    "        print(\"title: \", title)\n",
    "        print(\"paragraph: \", paragraph)\n",
    "        print(\"*\" * 50)"
   ]
  },
  {
   "cell_type": "code",
   "execution_count": 21,
   "metadata": {},
   "outputs": [],
   "source": [
    "def handle_query(SEARCH_SIZE):\n",
    "    query = input(\"Enter query: \")\n",
    "\n",
    "    embedding_start = time.time()\n",
    "    query_vector = embed_text([query])[0]\n",
    "    embedding_time = time.time() - embedding_start\n",
    "\n",
    "    script_query = {\n",
    "        \"script_score\": {\n",
    "            \"query\": {\"match_all\": {}},\n",
    "            \"script\": {\n",
    "                \"source\": \"cosineSimilarity(params.query_vector, doc['title_vector']) + cosineSimilarity(params.query_vector, doc['abstract_vector']) + 1.0\",\n",
    "                \"params\": {\"query_vector\": query_vector}\n",
    "            }\n",
    "        }\n",
    "    }\n",
    "\n",
    "    search_start = time.time()\n",
    "    response = client.search(\n",
    "        index=INDEX_NAME,\n",
    "        body={\n",
    "            \"size\": SEARCH_SIZE,\n",
    "            \"query\": script_query,\n",
    "            \"_source\": {\"includes\": [\"paper_id\",\"title\", \"abstract\", \"body_texts\"]}\n",
    "        }\n",
    "    )\n",
    "    search_time = time.time() - search_start\n",
    "\n",
    "    print()\n",
    "    print(\"{} total hits.\".format(response[\"hits\"][\"total\"][\"value\"]))\n",
    "    print(\"embedding time: {:.2f} ms\".format(embedding_time * 1000))\n",
    "    print(\"search time: {:.2f} ms\".format(search_time * 1000))\n",
    "    print()\n",
    "    print(\"The top \" + str(SEARCH_SIZE) + \" relevant abstracts to the question\")\n",
    "    count = 0\n",
    "    top_titles = []\n",
    "    for hit in response[\"hits\"][\"hits\"]:\n",
    "        count += 1\n",
    "        title = hit[\"_source\"][\"title\"]\n",
    "        print(\"Top \", str(count))\n",
    "        print(\"Paper Id: \", hit[\"_source\"][\"paper_id\"])\n",
    "        print(\"Paper Title: \", title)\n",
    "        print(\"Similarity Score to the query: \", hit[\"_score\"])\n",
    "        print(\"Abstract Text: \", hit[\"_source\"][\"abstract\"])\n",
    "        print(\"=\" * 50)\n",
    "        top_titles.append(title)\n",
    "    print()\n",
    "    print(\"The top \" + str(SEARCH_SIZE) + \" paragraphs from the top abstracts articles\")\n",
    "    get_top_paragraphs(context_data, top_titles, query_vector, SEARCH_SIZE)"
   ]
  },
  {
   "cell_type": "code",
   "execution_count": null,
   "metadata": {
    "scrolled": false
   },
   "outputs": [
    {
     "name": "stdout",
     "output_type": "stream",
     "text": [
      "Enter query: what is vaccination\n"
     ]
    },
    {
     "name": "stderr",
     "output_type": "stream",
     "text": [
      "/home/18rvb/anaconda3/lib/python3.7/site-packages/elasticsearch/connection/base.py:177: ElasticsearchDeprecationWarning: The vector functions of the form function(query, doc['field']) are deprecated, and the form function(query, 'field') should be used instead. For example, cosineSimilarity(query, doc['field']) is replaced by cosineSimilarity(query, 'field').\n",
      "  warnings.warn(message, category=ElasticsearchDeprecationWarning)\n"
     ]
    },
    {
     "name": "stdout",
     "output_type": "stream",
     "text": [
      "\n",
      "10000 total hits.\n",
      "embedding time: 2.55 ms\n",
      "search time: 37.33 ms\n",
      "\n",
      "The top 5 relevant abstracts to the question\n",
      "Top  1\n",
      "Paper Id:  15809bb71d850eff6ee3183c850e8c59ed1518c1\n",
      "Paper Title:  Recombinant measles AIK-C vaccine strain expressing heterologous virus antigens\n",
      "Similarity Score to the query:  2.5589318\n",
      "Abstract Text:  Further attenuated measles vaccines were developed more than 50 years ago and have been used throughout the world. Recombinant measles vaccine candidates have been developed and express several heterologous virus protective antigens. Immunogenicity and protective actions were confirmed using experimental animals: transgenic mice, cotton rats, and primates. The recent development of measles vaccine-based vectored vaccine candidates has been reviewed and some information on recombinant measles vaccines expressing respiratory syncytial virus proteins has been shown and discussed.\n",
      "==================================================\n",
      "Top  2\n",
      "Paper Id:  be900433da9f3130008dff4bd6e5b69d463cdbb3\n",
      "Paper Title:  Pneumonia and Streptococcus pneumoniae vaccine\n",
      "Similarity Score to the query:  2.5402384\n",
      "Abstract Text:  Pneumonia is an inflammatory disease of the lung, responsible for high morbidity and mortality worldwide. It is caused by bacteria, viruses, fungi, or other microorganisms. Streptococcus pneumoniae, a gram-positive bacterium with over 90 serotypes, is the most common causative agent. Moreover, comorbid factors including heart failure, renal disease, and pulmonary disease could increase the risk of pneumococcal pneumonia. Since the advent of the pneumococcal vaccine in the 1980s, the incidence of pneumonia has decreased significantly. However, current vaccines confer only limited protection against serotypes included in the vaccine. Thus, to overcome this limitation, new types of pneumococcal vaccines have been sought and under clinical trials. In this review, we discuss pneumonia and summarize the various types of pneumococcal vaccines in progress.\n",
      "==================================================\n",
      "Top  3\n",
      "Paper Id:  d213253353b62aa454d0bb02a7651a0ef7c0d34f\n",
      "Paper Title:  Vaccination against Paediatric Respiratory Pathogens\n",
      "Similarity Score to the query:  2.524619\n",
      "Abstract Text:  Acute respiratory infections (ARIs) are extremely common in children, especially those under 5 years old. They can lead to complications, super-infection, respiratory failure, and even compromised respiratory function in adulthood. For some of the responsible pathogens, vaccines are available. This review reports current issues about vaccines against the main respiratory pathogens to highlight the available strategies to reduce the burden of paediatric respiratory disease. The optimal use of influenza, pneumococcal, pertussis and measles vaccines is required in order to reduce ARI burden. Vaccination coverage rates must be improved to achieve the full benefits of these vaccines. Recently, advances in the knowledge of respiratory syncytial virus structural biology and immunology as well as the development of new techniques to generate vaccine candidates have increased the number of promising vaccines even against this harmful pathogen.\n",
      "==================================================\n",
      "Top  4\n",
      "Paper Id:  56f881e6f2359d8a39135f31c3f10785d0b58337\n",
      "Paper Title:  Progress in Respiratory Virus Vaccine Development\n",
      "Similarity Score to the query:  2.5158448\n",
      "Abstract Text:  Viral respiratory infections cause significant morbidity and mortality in infants and young children as well as in at-risk adults and the elderly. Although many viral pathogens are capable of causing respiratory disease, vaccine development has to focus on a limited number of pathogens, such as those that commonly cause serious lower respiratory illness (LRI). Whereas influenza virus vaccines have been available for some time (see the review by Clark and Lynch in this issue), vaccines against other medically important viruses such as respiratory syncytial virus (RSV), the parainfluenza viruses (PIVs), and metapneumovirus (MPVs) are not available. This review aims to provide a brief update on investigational vaccines against RSV, the PIVs, and MPV that have been evaluated in clinical trials or are currently in clinical development.\n",
      "==================================================\n",
      "Top  5\n",
      "Paper Id:  4a94f3fe57da5dad4c965d59faf0facc2039175a\n",
      "Paper Title:  Percutaneous Vaccination as an Effective Method of Delivery of MVA and MVA-Vectored Vaccines\n",
      "Similarity Score to the query:  2.5088446\n",
      "Abstract Text:  The robustness of immune responses to an antigen could be dictated by the route of vaccine inoculation. Traditional smallpox vaccines, essentially vaccinia virus strains, that were used in the eradication of smallpox were administered by percutaneous inoculation (skin scarification). The modified vaccinia virus Ankara is licensed as a smallpox vaccine in Europe and Canada and currently undergoing clinical development in the United States. MVA is also being investigated as a vector for the delivery of heterologous genes for prophylactic or therapeutic immunization. Since MVA is replication-deficient, MVA and MVAvectored vaccines are often inoculated through the intramuscular, intradermal or subcutaneous routes. Vaccine inoculation via the intramuscular, intradermal or subcutaneous routes requires the use of injection needles, and an estimated 10 to 20% of the population of the United States has needle phobia. Following an observation in our laboratory that a replication-deficient recombinant vaccinia virus derived from the New York City Board of Health strain elicited protective immune responses in a mouse model upon inoculation by tail scarification, we investigated whether MVA and MVA recombinants can elicit protective responses following percutaneous administration in mouse models. Our data suggest that MVA administered by percutaneous inoculation, elicited vaccinia-specific antibody responses, and protected mice from lethal vaccinia virus challenge, at levels comparable to or better than subcutaneous or intramuscular inoculation. High titers of specific neutralizing antibodies were elicited in mice inoculated with a recombinant MVA expressing the herpes simplex type 2 glycoprotein D after scarification. Similarly, a recombinant MVA expressing the hemagglutinin of attenuated influenza virus rgA/Viet Nam/1203/2004 (H5N1) elicited protective immune responses when administered at low doses by scarification. Taken together, our data suggest that MVA and MVA-vectored vaccines inoculated by scarification can elicit protective immune responses that are comparable to subcutaneous vaccination, and may allow for antigen sparing when vaccine supply is limited.\n",
      "==================================================\n",
      "\n",
      "The top 5 paragraphs from the top abstracts articles\n",
      "Top 0 Relevant Paragraph: \n",
      "title:  Pneumonia and Streptococcus pneumoniae vaccine\n",
      "paragraph:  Although influenza virus and pneumococcus coinfection is responsible for higher mortality and morbidity, the current pneumococcal conjugate vaccine does not provide sufficient protection in the serial coinfection model (Metzger et al. 2015) . Therefore, the development of a new type of vaccine, which can protect against influenza virus and pneumococcus coinfection, is required.\n",
      "**************************************************\n",
      "Top 1 Relevant Paragraph: \n",
      "title:  Pneumonia and Streptococcus pneumoniae vaccine\n",
      "paragraph:  The most common pneumonia, CAP, is mainly caused by S. pneumoniae. Although antibiotics have been used to treat pneumonia, the incidence of antibiotic resistance has increased and the risk of pneumonia in children and the elderly with weak immune responses is high. Thus, to prevent pneumonia or IPD, including sepsis, the WHO and ACIP recommend vaccination. Moreover, influenza virus, a critical factor in increased pneumococcal pneumonia risk, has been linked to higher mortality. After the introduction of PCV vaccination, the incidence of pneumonia and IPD greatly decreased. However, the current vaccine cannot prevent emergence of pneumococcal diseases caused by serotypes not included in the vaccine. Thus, development of new mucosal vaccine types is needed to protect against a broader range of serotypes.\n",
      "**************************************************\n",
      "Top 2 Relevant Paragraph: \n",
      "title:  Vaccination against Paediatric Respiratory Pathogens\n",
      "paragraph:  ARIs are extremely common in children, especially those under 5 years old. They can lead to complications, super-infection, respiratory failure, and even compromised respiratory function in adulthood. For some of the responsible pathogens, vaccines are available. This review focuses on the most recent data about vaccines against respiratory pathogens. The use of influenza, pneumococcal, pertussis and measles vaccines is essential to reduce ARIs burden. Vaccination coverage rates must be improved to achieve the full benefits of these vaccines. Recently, advances in the knowledge of RSV virus biology and immunology as well as the development of new techniques to generate vaccine candidates are finally increasing the number of promising vaccines against even this harmful pathogen. \n",
      "**************************************************\n",
      "Top 3 Relevant Paragraph: \n",
      "title:  Vaccination against Paediatric Respiratory Pathogens\n",
      "paragraph:  Practically, for the prevention of pneumococcal infections in the paediatric population it is generally inferred that PCV10 and PCV13 are similarly effective and that only the cost of vaccine procurement can influence the choice to use one over the other [70] .\n",
      "**************************************************\n",
      "Top 4 Relevant Paragraph: \n",
      "title:  Vaccination against Paediatric Respiratory Pathogens\n",
      "paragraph:  In conclusion, prevention of pertussis with currently available vaccines reaching high vaccination coverage rates remains a priority, including the vaccination of pregnant women [83] . Several different aP vaccines are available, but it has yet to be determined which of them confers the highest and the most-prolonged protection. Further studies are needed to evaluate the importance of individual antigens included in aP vaccines in conferring protection against disease, colonization, and transmission. However, present knowledge seems to indicate that pertussis toxin, particularly if genetically detoxified, represents the main antigen that ensures protection from disease even if not from infection. The optimal pertussis vaccine would be one that induces both mucosal and systemic responses similar to those occurring under natural infection, leading to long-term protection against both disease and infection. Such a vaccine might increase public confidence and result in better vaccine uptake.\n",
      "**************************************************\n"
     ]
    }
   ],
   "source": [
    "run_query_loop()"
   ]
  },
  {
   "cell_type": "code",
   "execution_count": null,
   "metadata": {},
   "outputs": [],
   "source": [
    "print(\"Closing tensorflow session...\")\n",
    "session.close()"
   ]
  },
  {
   "cell_type": "markdown",
   "metadata": {},
   "source": [
    "# Discussion and Future Work\n",
    "\n",
    "* Run the clustering algorithm using more features\n",
    "* Incorporate the querying results in our annotation tool\n",
    "* Explore more sentence embedding methods, particularly utilizing BioBERT"
   ]
  },
  {
   "cell_type": "markdown",
   "metadata": {},
   "source": [
    "# Crowd-Sourcing Expert Labels\n",
    "Since the CORD-19 input dataset is unlabeled and many of the Natural Language Processing (NLP) tools rely heavily on labels obtained from domain specific experts, we propose to attack all of these tasks at once in a highly iterative, closed-loop manner by providing a means of engaging Subject Matter Experts (SMEs) in generating gold data. \n",
    "In order to do so, we have created a user-friendly app for medical experts to generate gold data to be used in training a model in a supervised manner.\n",
    "<img width=\"1822\" alt=\"Picture4\" src=\"https://user-images.githubusercontent.com/61748540/79514422-2532aa00-8014-11ea-9840-9c675c5cc3db.png\">"
   ]
  },
  {
   "cell_type": "markdown",
   "metadata": {},
   "source": [
    "# Reference\n",
    "\n",
    "[1] Arora, Sanjeev, Yingyu Liang, and Tengyu Ma. \"A simple but tough-to-beat baseline for sentence embeddings.\" (2016). <br>\n",
    "[2] https://github.com/hanxiao/bert-as-service#install <br>\n",
    "[3] Conneau, Alexis, et al. \"Supervised learning of universal sentence representations from natural language inference data.\" arXiv preprint arXiv:1705.02364 (2017). <br>\n",
    "[4] Cer, Daniel, et al. \"Universal sentence encoder.\" arXiv preprint arXiv:1803.11175 (2018). <br>\n",
    "[5] Arman Cohan, Nazli Goharian \"Scientific Article Summarization Using Citation-Context and Article’s Discourse Structure\" (EMNLP 2015).<br>\n"
   ]
  },
  {
   "cell_type": "code",
   "execution_count": null,
   "metadata": {},
   "outputs": [],
   "source": []
  }
 ],
 "metadata": {
  "kernelspec": {
   "display_name": "cord19workshop",
   "language": "python",
   "name": "workshop_env"
  },
  "language_info": {
   "codemirror_mode": {
    "name": "ipython",
    "version": 3
   },
   "file_extension": ".py",
   "mimetype": "text/x-python",
   "name": "python",
   "nbconvert_exporter": "python",
   "pygments_lexer": "ipython3",
   "version": "3.7.4"
  },
  "toc": {
   "nav_menu": {},
   "number_sections": true,
   "sideBar": true,
   "skip_h1_title": false,
   "toc_cell": false,
   "toc_position": {},
   "toc_section_display": "block",
   "toc_window_display": false
  }
 },
 "nbformat": 4,
 "nbformat_minor": 4
}
